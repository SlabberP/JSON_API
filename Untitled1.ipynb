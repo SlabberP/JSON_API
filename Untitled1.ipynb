{
 "cells": [
  {
   "cell_type": "markdown",
   "id": "71b90433-077b-41e1-a296-c19c0aacdc4a",
   "metadata": {},
   "source": [
    "## Project 3 - Part 2 Extract from TMDB (Core) - Specifications - Financial Data\n",
    "\n",
    "Author: P. Slabber"
   ]
  },
  {
   "cell_type": "code",
   "execution_count": null,
   "id": "0ef68477-28c3-473b-adaf-0f96b8e9aa8d",
   "metadata": {},
   "outputs": [],
   "source": []
  }
 ],
 "metadata": {
  "kernelspec": {
   "display_name": "Python 3 (ipykernel)",
   "language": "python",
   "name": "python3"
  },
  "language_info": {
   "codemirror_mode": {
    "name": "ipython",
    "version": 3
   },
   "file_extension": ".py",
   "mimetype": "text/x-python",
   "name": "python",
   "nbconvert_exporter": "python",
   "pygments_lexer": "ipython3",
   "version": "3.10.10"
  },
  "widgets": {
   "application/vnd.jupyter.widget-state+json": {
    "state": {},
    "version_major": 2,
    "version_minor": 0
   }
  }
 },
 "nbformat": 4,
 "nbformat_minor": 5
}
