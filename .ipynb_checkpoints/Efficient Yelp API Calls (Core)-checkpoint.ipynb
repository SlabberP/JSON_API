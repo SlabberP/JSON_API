{
 "cells": [
  {
   "cell_type": "markdown",
   "id": "083d062f-4af4-4910-afe8-df56f83643d8",
   "metadata": {},
   "source": [
    "**Efficient Yelp API Calls (Core)**\n",
    "\n",
    "**Author: P. Slabber**\n",
    "\r\n",
    "For this assignment, you will be working with the Yelp API.\r\n",
    "\r\n",
    "As before, you will use the Yelp API to search your favorite city for a cuisine type of your choice.\r\n",
    "\r\n",
    "Extract all of the results from your search and compile them into one dataframe using a for loop as shown in the lesson \"Code for Efficient API Extraction\"\r\n",
    "\r\n",
    "Save your notebook, commit the change to your repository and submit the repository URL for this assignment."
   ]
  },
  {
   "cell_type": "code",
   "execution_count": 1,
   "id": "e0c50e53-f4af-4921-a9aa-a6b74fa46ced",
   "metadata": {},
   "outputs": [],
   "source": [
    "# Standard Importsimport numpy as np\n",
    "import pandas as pd\n",
    "import matplotlib.pyplot as plt\n",
    "import seaborn as sns\n",
    "import json, os, math, time\n",
    "# Additional Importsimport os, json, math, time\n",
    "from yelpapi import YelpAPI\n",
    "from tqdm.notebook import tqdm_notebook"
   ]
  },
  {
   "cell_type": "code",
   "execution_count": 2,
   "id": "ab09f763-e523-48e5-ace6-4ecea5b9ec6e",
   "metadata": {},
   "outputs": [],
   "source": [
    "# Load API Credentials\n",
    "with open('/Users/tspiet/.secret/yelp_api.json') as f:   #use your path here!\n",
    "    login = json.load(f)\n",
    "# Instantiate YelpAPI Variable\n",
    "yelp_api = YelpAPI(login['api-key'], timeout_s=5.0)"
   ]
  },
  {
   "cell_type": "code",
   "execution_count": 3,
   "id": "c4608629-665b-40da-be16-4bd1777f702f",
   "metadata": {},
   "outputs": [],
   "source": [
    "# set our API call parameters \n",
    "LOCATION = 'NY,NY'\n",
    "TERM = 'Steak'"
   ]
  },
  {
   "cell_type": "code",
   "execution_count": 4,
   "id": "3c411988-62dd-49aa-899a-8bad2e7e40c1",
   "metadata": {},
   "outputs": [
    {
     "data": {
      "text/plain": [
       "'Data/results_in_progress_NY_Steak.json'"
      ]
     },
     "execution_count": 4,
     "metadata": {},
     "output_type": "execute_result"
    }
   ],
   "source": [
    "# Specifying JSON_FILE filename (can include a folder)# include the search terms in the filename\n",
    "JSON_FILE = \"Data/results_in_progress_NY_Steak.json\"\n",
    "JSON_FILE"
   ]
  },
  {
   "cell_type": "code",
   "execution_count": 6,
   "id": "5fe26515-26f2-4966-aa80-ccf488d9bfad",
   "metadata": {},
   "outputs": [
    {
     "name": "stdout",
     "output_type": "stream",
     "text": [
      "[i] Data/results_in_progress_NY_Steak.json already exists.\n"
     ]
    }
   ],
   "source": [
    "## Check if JSON_FILE exists\n",
    "file_exists = os.path.isfile(JSON_FILE)\n",
    "## If it does not exist: if file_exists == False:\n",
    "    \n",
    "## CREATE ANY NEEDED FOLDERS# Get the Folder Name only\n",
    "folder = os.path.dirname(JSON_FILE)\n",
    "## If JSON_FILE included a folder:if len(folder)>0:\n",
    "# create the folder\n",
    "os.makedirs(folder,exist_ok=True)\n",
    "        \n",
    "        \n",
    "## INFORM USER AND SAVE EMPTY LISTprint(f'[i] {JSON_FILE} not found. Saving empty list to file.')\n",
    "    \n",
    "    \n",
    "# save an empty list\n",
    "with open(JSON_FILE,'w') as f:\n",
    "    json.dump([],f)  \n",
    "\n",
    "# If it exists, inform userelse:\n",
    "print(f\"[i] {JSON_FILE} already exists.\")"
   ]
  },
  {
   "cell_type": "code",
   "execution_count": 7,
   "id": "ecab2b50-773d-4ef4-b9db-bbc69bbb4330",
   "metadata": {},
   "outputs": [
    {
     "name": "stdout",
     "output_type": "stream",
     "text": [
      "- 0 previous results found.\n"
     ]
    }
   ],
   "source": [
    "## Load previous results and use len of results for offset\n",
    "with open(JSON_FILE,'r') as f:\n",
    "    previous_results = json.load(f)\n",
    "    \n",
    "## set offset based on previous results\n",
    "n_results = len(previous_results)\n",
    "print(f'- {n_results} previous results found.')"
   ]
  },
  {
   "cell_type": "code",
   "execution_count": 8,
   "id": "a427c86c-3add-4ff2-9b89-912dda83c4b6",
   "metadata": {},
   "outputs": [
    {
     "data": {
      "text/plain": [
       "dict_keys(['businesses', 'total', 'region'])"
      ]
     },
     "execution_count": 8,
     "metadata": {},
     "output_type": "execute_result"
    }
   ],
   "source": [
    "# use our yelp_api variable's search_query method to perform our API call\n",
    "results = yelp_api.search_query(location=LOCATION,\n",
    "                                term=TERM,\n",
    "                               offset=n_results)\n",
    "results.keys()"
   ]
  },
  {
   "cell_type": "code",
   "execution_count": 9,
   "id": "62fea691-dd4a-4a08-b485-eab7b1cf84fb",
   "metadata": {},
   "outputs": [
    {
     "data": {
      "text/plain": [
       "17100"
      ]
     },
     "execution_count": 9,
     "metadata": {},
     "output_type": "execute_result"
    }
   ],
   "source": [
    "## How many results total?\n",
    "total_results = results['total']\n",
    "total_results"
   ]
  },
  {
   "cell_type": "code",
   "execution_count": 10,
   "id": "047cacaf-89ab-496a-8817-3d2adf02e422",
   "metadata": {},
   "outputs": [
    {
     "data": {
      "text/plain": [
       "20"
      ]
     },
     "execution_count": 10,
     "metadata": {},
     "output_type": "execute_result"
    }
   ],
   "source": [
    "## How many did we get the details for?\n",
    "results_per_page = len(results['businesses'])\n",
    "results_per_page"
   ]
  },
  {
   "cell_type": "code",
   "execution_count": 11,
   "id": "9e417559-3a24-4c5f-961e-910c9fa8a3ad",
   "metadata": {},
   "outputs": [
    {
     "data": {
      "text/plain": [
       "855"
      ]
     },
     "execution_count": 11,
     "metadata": {},
     "output_type": "execute_result"
    }
   ],
   "source": [
    "# Use math.ceil to round up for the total number of pages of results.\n",
    "n_pages = math.ceil((results['total']-n_results)/ results_per_page)\n",
    "n_pages"
   ]
  },
  {
   "cell_type": "code",
   "execution_count": 12,
   "id": "c48700e1-4a47-446d-811b-12f1af0b3884",
   "metadata": {},
   "outputs": [],
   "source": [
    "# join new results with old list with extend and save to file\n",
    "previous_results.extend(results['businesses'])  \n",
    "with open(JSON_FILE,'w') as f:\n",
    "     json.dump(previous_results,f)"
   ]
  },
  {
   "cell_type": "code",
   "execution_count": 13,
   "id": "221fce50-c992-4fcf-8308-00809f26269a",
   "metadata": {},
   "outputs": [],
   "source": [
    "def create_json_file(JSON_FILE, delete_if_exists=False):\n",
    "    # Check if JSON_FILE exists\n",
    "    file_exists = os.path.isfile(JSON_FILE)\n",
    "\n",
    "    # If it DOES exist:\n",
    "    if file_exists == True:\n",
    "        # Check if user wants to delete if exists\n",
    "        if delete_if_exists:\n",
    "            print(f\"[!] {JSON_FILE} already exists. Deleting previous file...\")\n",
    "            # delete file\n",
    "            os.remove(JSON_FILE)\n",
    "            # Recursive call to function after old file deleted\n",
    "            create_json_file(JSON_FILE, delete_if_exists=False)\n",
    "        else:\n",
    "            print(f\"[i] {JSON_FILE} already exists.\")\n",
    "    \n",
    "    # If it does NOT exist:\n",
    "    else:\n",
    "        # INFORM USER AND SAVE EMPTY LIST\n",
    "        print(f\"[i] {JSON_FILE} not found. Saving empty list to new file.\")\n",
    "\n",
    "        # CREATE ANY NEEDED FOLDERS\n",
    "        # Get the Folder Name only\n",
    "        folder = os.path.dirname(JSON_FILE)\n",
    "\n",
    "        # If JSON_FILE included a folder:\n",
    "        if len(folder) > 0:\n",
    "            # create the folder\n",
    "            os.makedirs(folder, exist_ok=True)\n",
    "        \n",
    "        # Save empty list to start the json file\n",
    "        with open(JSON_FILE, 'w') as f:\n",
    "            json.dump([], f)\n",
    "\n",
    "# Example usage:\n",
    "# create_json_file(\"example.json\", delete_if_exists=True)"
   ]
  },
  {
   "cell_type": "code",
   "execution_count": 14,
   "id": "8a2f2f13-49c6-4052-aa26-1118ccef1ae1",
   "metadata": {},
   "outputs": [
    {
     "name": "stdout",
     "output_type": "stream",
     "text": [
      "[!] Data/results_in_progress_NY_Steak.json already exists. Deleting previous file...\n",
      "[i] Data/results_in_progress_NY_Steak.json not found. Saving empty list to new file.\n",
      "- 0 previous results found.\n"
     ]
    },
    {
     "data": {
      "text/plain": [
       "815"
      ]
     },
     "execution_count": 14,
     "metadata": {},
     "output_type": "execute_result"
    }
   ],
   "source": [
    "## Create a new empty json file (exist the previous if it exists)\n",
    "create_json_file(JSON_FILE, delete_if_exists=True)\n",
    "## Load previous results and use len of results for offset\n",
    "with open(JSON_FILE,'r') as f:\n",
    "    previous_results = json.load(f)\n",
    "    \n",
    "## set offset based on previous results\n",
    "n_results = len(previous_results)\n",
    "print(f'- {n_results} previous results found.')\n",
    "# use our yelp_api variable's search_query method to perform our API call\n",
    "results = yelp_api.search_query(location=LOCATION,\n",
    "                                term=TERM,\n",
    "                               offset=n_results)\n",
    "## How many results total?\n",
    "total_results = results['total']\n",
    "## How many did we get the details for?\n",
    "results_per_page = len(results['businesses'])\n",
    "# Use math.ceil to round up for the total number of pages of results.\n",
    "n_pages = math.ceil((results['total']-n_results)/ results_per_page)\n",
    "n_pages"
   ]
  },
  {
   "cell_type": "code",
   "execution_count": 15,
   "id": "a891819e-65d1-48ea-b462-5f797ee09f6a",
   "metadata": {},
   "outputs": [
    {
     "data": {
      "application/vnd.jupyter.widget-view+json": {
       "model_id": "081e90bc611346e7a53aecdf618d1fdd",
       "version_major": 2,
       "version_minor": 0
      },
      "text/plain": [
       "  0%|          | 0/815 [00:00<?, ?it/s]"
      ]
     },
     "metadata": {},
     "output_type": "display_data"
    },
    {
     "name": "stdout",
     "output_type": "stream",
     "text": [
      "Exceeded 1000 api calls. Stopping loop.\n"
     ]
    }
   ],
   "source": [
    "for i in tqdm_notebook( range(1,n_pages+1)):\n",
    "    \n",
    "    ## Read in results in progress file and check the length\n",
    "    with open(JSON_FILE, 'r') as f:\n",
    "        previous_results = json.load(f)\n",
    "    ## save number of results for to use as offset\n",
    "    n_results = len(previous_results)\n",
    "    \n",
    "    if (n_results + results_per_page) > 1000:\n",
    "        print('Exceeded 1000 api calls. Stopping loop.')\n",
    "        break## use n_results as the OFFSET \n",
    "    results = yelp_api.search_query(location=LOCATION,\n",
    "                                    term=TERM, \n",
    "                                    offset=n_results)\n",
    "    \n",
    "    \n",
    "    \n",
    "    ## append new results and save to file\n",
    "    previous_results.extend(results['businesses'])\n",
    "    \n",
    "    # display(previous_results)\n",
    "    with open(JSON_FILE,'w') as f:\n",
    "        json.dump(previous_results,f)\n",
    "    \n",
    "    time.sleep(.2)\n",
    "\n",
    "# Exceeded 1000 api calls. Stopping loop."
   ]
  },
  {
   "cell_type": "code",
   "execution_count": 16,
   "id": "854bbc35-4a21-42c2-b740-8cb6ae182e49",
   "metadata": {},
   "outputs": [
    {
     "data": {
      "text/html": [
       "<div>\n",
       "<style scoped>\n",
       "    .dataframe tbody tr th:only-of-type {\n",
       "        vertical-align: middle;\n",
       "    }\n",
       "\n",
       "    .dataframe tbody tr th {\n",
       "        vertical-align: top;\n",
       "    }\n",
       "\n",
       "    .dataframe thead th {\n",
       "        text-align: right;\n",
       "    }\n",
       "</style>\n",
       "<table border=\"1\" class=\"dataframe\">\n",
       "  <thead>\n",
       "    <tr style=\"text-align: right;\">\n",
       "      <th></th>\n",
       "      <th>id</th>\n",
       "      <th>alias</th>\n",
       "      <th>name</th>\n",
       "      <th>image_url</th>\n",
       "      <th>is_closed</th>\n",
       "      <th>url</th>\n",
       "      <th>review_count</th>\n",
       "      <th>categories</th>\n",
       "      <th>rating</th>\n",
       "      <th>coordinates</th>\n",
       "      <th>transactions</th>\n",
       "      <th>location</th>\n",
       "      <th>phone</th>\n",
       "      <th>display_phone</th>\n",
       "      <th>distance</th>\n",
       "      <th>price</th>\n",
       "    </tr>\n",
       "  </thead>\n",
       "  <tbody>\n",
       "    <tr>\n",
       "      <th>0</th>\n",
       "      <td>5CuYWr0-cE01HxlBu5Ka6g</td>\n",
       "      <td>carne-mare-new-york-5</td>\n",
       "      <td>Carne Mare</td>\n",
       "      <td>https://s3-media4.fl.yelpcdn.com/bphoto/fwpce8...</td>\n",
       "      <td>False</td>\n",
       "      <td>https://www.yelp.com/biz/carne-mare-new-york-5...</td>\n",
       "      <td>241</td>\n",
       "      <td>[{'alias': 'steak', 'title': 'Steakhouses'}, {...</td>\n",
       "      <td>4.5</td>\n",
       "      <td>{'latitude': 40.70568649199326, 'longitude': -...</td>\n",
       "      <td>[delivery]</td>\n",
       "      <td>{'address1': '89 South St', 'address2': '', 'a...</td>\n",
       "      <td>+12122804600</td>\n",
       "      <td>(212) 280-4600</td>\n",
       "      <td>666.157802</td>\n",
       "      <td>NaN</td>\n",
       "    </tr>\n",
       "    <tr>\n",
       "      <th>1</th>\n",
       "      <td>8XHbZIKDQbXhyKIGiukVeQ</td>\n",
       "      <td>boucherie-union-square-new-york-2</td>\n",
       "      <td>Boucherie Union Square</td>\n",
       "      <td>https://s3-media4.fl.yelpcdn.com/bphoto/WqE28s...</td>\n",
       "      <td>False</td>\n",
       "      <td>https://www.yelp.com/biz/boucherie-union-squar...</td>\n",
       "      <td>1446</td>\n",
       "      <td>[{'alias': 'steak', 'title': 'Steakhouses'}, {...</td>\n",
       "      <td>4.5</td>\n",
       "      <td>{'latitude': 40.73725824850519, 'longitude': -...</td>\n",
       "      <td>[pickup, delivery]</td>\n",
       "      <td>{'address1': '225 Park Ave S', 'address2': Non...</td>\n",
       "      <td>+12123530200</td>\n",
       "      <td>(212) 353-0200</td>\n",
       "      <td>3574.252680</td>\n",
       "      <td>$$$</td>\n",
       "    </tr>\n",
       "    <tr>\n",
       "      <th>2</th>\n",
       "      <td>DGhWO1sUWydVeR5j5ZZaMw</td>\n",
       "      <td>la-grande-boucherie-new-york-2</td>\n",
       "      <td>La Grande Boucherie</td>\n",
       "      <td>https://s3-media3.fl.yelpcdn.com/bphoto/b9URGc...</td>\n",
       "      <td>False</td>\n",
       "      <td>https://www.yelp.com/biz/la-grande-boucherie-n...</td>\n",
       "      <td>2563</td>\n",
       "      <td>[{'alias': 'french', 'title': 'French'}, {'ali...</td>\n",
       "      <td>4.5</td>\n",
       "      <td>{'latitude': 40.7626274, 'longitude': -73.9808...</td>\n",
       "      <td>[pickup, delivery]</td>\n",
       "      <td>{'address1': '145 W 53rd St', 'address2': '', ...</td>\n",
       "      <td>+12125107714</td>\n",
       "      <td>(212) 510-7714</td>\n",
       "      <td>6458.633758</td>\n",
       "      <td>$$$</td>\n",
       "    </tr>\n",
       "    <tr>\n",
       "      <th>3</th>\n",
       "      <td>V3dHB6xAdd8_dH7t481PAw</td>\n",
       "      <td>steak-frites-bistro-new-york-3</td>\n",
       "      <td>Steak Frites Bistro</td>\n",
       "      <td>https://s3-media4.fl.yelpcdn.com/bphoto/EiqUM4...</td>\n",
       "      <td>False</td>\n",
       "      <td>https://www.yelp.com/biz/steak-frites-bistro-n...</td>\n",
       "      <td>116</td>\n",
       "      <td>[{'alias': 'steak', 'title': 'Steakhouses'}, {...</td>\n",
       "      <td>4.5</td>\n",
       "      <td>{'latitude': 40.75559939381978, 'longitude': -...</td>\n",
       "      <td>[]</td>\n",
       "      <td>{'address1': '496 9th Ave', 'address2': None, ...</td>\n",
       "      <td>+19296145070</td>\n",
       "      <td>(929) 614-5070</td>\n",
       "      <td>5576.932575</td>\n",
       "      <td>$$$</td>\n",
       "    </tr>\n",
       "    <tr>\n",
       "      <th>4</th>\n",
       "      <td>hiTfA7vnxDSLv77nl6UQXQ</td>\n",
       "      <td>st-anselm-brooklyn</td>\n",
       "      <td>St. Anselm</td>\n",
       "      <td>https://s3-media4.fl.yelpcdn.com/bphoto/7-28AN...</td>\n",
       "      <td>False</td>\n",
       "      <td>https://www.yelp.com/biz/st-anselm-brooklyn?ad...</td>\n",
       "      <td>967</td>\n",
       "      <td>[{'alias': 'newamerican', 'title': 'New Americ...</td>\n",
       "      <td>4.0</td>\n",
       "      <td>{'latitude': 40.7143299, 'longitude': -73.95604}</td>\n",
       "      <td>[pickup, delivery]</td>\n",
       "      <td>{'address1': '355 Metropolitan Ave', 'address2...</td>\n",
       "      <td>+17183845054</td>\n",
       "      <td>(718) 384-5054</td>\n",
       "      <td>3369.159469</td>\n",
       "      <td>$$$</td>\n",
       "    </tr>\n",
       "  </tbody>\n",
       "</table>\n",
       "</div>"
      ],
      "text/plain": [
       "                       id                              alias  \\\n",
       "0  5CuYWr0-cE01HxlBu5Ka6g              carne-mare-new-york-5   \n",
       "1  8XHbZIKDQbXhyKIGiukVeQ  boucherie-union-square-new-york-2   \n",
       "2  DGhWO1sUWydVeR5j5ZZaMw     la-grande-boucherie-new-york-2   \n",
       "3  V3dHB6xAdd8_dH7t481PAw     steak-frites-bistro-new-york-3   \n",
       "4  hiTfA7vnxDSLv77nl6UQXQ                 st-anselm-brooklyn   \n",
       "\n",
       "                     name                                          image_url  \\\n",
       "0              Carne Mare  https://s3-media4.fl.yelpcdn.com/bphoto/fwpce8...   \n",
       "1  Boucherie Union Square  https://s3-media4.fl.yelpcdn.com/bphoto/WqE28s...   \n",
       "2     La Grande Boucherie  https://s3-media3.fl.yelpcdn.com/bphoto/b9URGc...   \n",
       "3     Steak Frites Bistro  https://s3-media4.fl.yelpcdn.com/bphoto/EiqUM4...   \n",
       "4              St. Anselm  https://s3-media4.fl.yelpcdn.com/bphoto/7-28AN...   \n",
       "\n",
       "   is_closed                                                url  review_count  \\\n",
       "0      False  https://www.yelp.com/biz/carne-mare-new-york-5...           241   \n",
       "1      False  https://www.yelp.com/biz/boucherie-union-squar...          1446   \n",
       "2      False  https://www.yelp.com/biz/la-grande-boucherie-n...          2563   \n",
       "3      False  https://www.yelp.com/biz/steak-frites-bistro-n...           116   \n",
       "4      False  https://www.yelp.com/biz/st-anselm-brooklyn?ad...           967   \n",
       "\n",
       "                                          categories  rating  \\\n",
       "0  [{'alias': 'steak', 'title': 'Steakhouses'}, {...     4.5   \n",
       "1  [{'alias': 'steak', 'title': 'Steakhouses'}, {...     4.5   \n",
       "2  [{'alias': 'french', 'title': 'French'}, {'ali...     4.5   \n",
       "3  [{'alias': 'steak', 'title': 'Steakhouses'}, {...     4.5   \n",
       "4  [{'alias': 'newamerican', 'title': 'New Americ...     4.0   \n",
       "\n",
       "                                         coordinates        transactions  \\\n",
       "0  {'latitude': 40.70568649199326, 'longitude': -...          [delivery]   \n",
       "1  {'latitude': 40.73725824850519, 'longitude': -...  [pickup, delivery]   \n",
       "2  {'latitude': 40.7626274, 'longitude': -73.9808...  [pickup, delivery]   \n",
       "3  {'latitude': 40.75559939381978, 'longitude': -...                  []   \n",
       "4   {'latitude': 40.7143299, 'longitude': -73.95604}  [pickup, delivery]   \n",
       "\n",
       "                                            location         phone  \\\n",
       "0  {'address1': '89 South St', 'address2': '', 'a...  +12122804600   \n",
       "1  {'address1': '225 Park Ave S', 'address2': Non...  +12123530200   \n",
       "2  {'address1': '145 W 53rd St', 'address2': '', ...  +12125107714   \n",
       "3  {'address1': '496 9th Ave', 'address2': None, ...  +19296145070   \n",
       "4  {'address1': '355 Metropolitan Ave', 'address2...  +17183845054   \n",
       "\n",
       "    display_phone     distance price  \n",
       "0  (212) 280-4600   666.157802   NaN  \n",
       "1  (212) 353-0200  3574.252680   $$$  \n",
       "2  (212) 510-7714  6458.633758   $$$  \n",
       "3  (929) 614-5070  5576.932575   $$$  \n",
       "4  (718) 384-5054  3369.159469   $$$  "
      ]
     },
     "metadata": {},
     "output_type": "display_data"
    },
    {
     "data": {
      "text/html": [
       "<div>\n",
       "<style scoped>\n",
       "    .dataframe tbody tr th:only-of-type {\n",
       "        vertical-align: middle;\n",
       "    }\n",
       "\n",
       "    .dataframe tbody tr th {\n",
       "        vertical-align: top;\n",
       "    }\n",
       "\n",
       "    .dataframe thead th {\n",
       "        text-align: right;\n",
       "    }\n",
       "</style>\n",
       "<table border=\"1\" class=\"dataframe\">\n",
       "  <thead>\n",
       "    <tr style=\"text-align: right;\">\n",
       "      <th></th>\n",
       "      <th>id</th>\n",
       "      <th>alias</th>\n",
       "      <th>name</th>\n",
       "      <th>image_url</th>\n",
       "      <th>is_closed</th>\n",
       "      <th>url</th>\n",
       "      <th>review_count</th>\n",
       "      <th>categories</th>\n",
       "      <th>rating</th>\n",
       "      <th>coordinates</th>\n",
       "      <th>transactions</th>\n",
       "      <th>location</th>\n",
       "      <th>phone</th>\n",
       "      <th>display_phone</th>\n",
       "      <th>distance</th>\n",
       "      <th>price</th>\n",
       "    </tr>\n",
       "  </thead>\n",
       "  <tbody>\n",
       "    <tr>\n",
       "      <th>995</th>\n",
       "      <td>6ur9R2Fmr-7qXlNnyoclEg</td>\n",
       "      <td>blume-hütte-new-york</td>\n",
       "      <td>Blume/Hütte</td>\n",
       "      <td>https://s3-media2.fl.yelpcdn.com/bphoto/r9EcfF...</td>\n",
       "      <td>False</td>\n",
       "      <td>https://www.yelp.com/biz/blume-h%C3%BCtte-new-...</td>\n",
       "      <td>52</td>\n",
       "      <td>[{'alias': 'sandwiches', 'title': 'Sandwiches'...</td>\n",
       "      <td>4.0</td>\n",
       "      <td>{'latitude': 40.77754, 'longitude': -73.9517855}</td>\n",
       "      <td>[delivery]</td>\n",
       "      <td>{'address1': '1652 2nd Ave', 'address2': '', '...</td>\n",
       "      <td>+16469810764</td>\n",
       "      <td>(646) 981-0764</td>\n",
       "      <td>8780.141295</td>\n",
       "      <td>$$$</td>\n",
       "    </tr>\n",
       "    <tr>\n",
       "      <th>996</th>\n",
       "      <td>Twwpqrl15EVhmaNnNSrSQw</td>\n",
       "      <td>t-fusion-steakhouse-brooklyn</td>\n",
       "      <td>T Fusion Steakhouse</td>\n",
       "      <td>https://s3-media3.fl.yelpcdn.com/bphoto/sbEc7r...</td>\n",
       "      <td>False</td>\n",
       "      <td>https://www.yelp.com/biz/t-fusion-steakhouse-b...</td>\n",
       "      <td>95</td>\n",
       "      <td>[{'alias': 'steak', 'title': 'Steakhouses'}, {...</td>\n",
       "      <td>4.0</td>\n",
       "      <td>{'latitude': 40.61336, 'longitude': -73.93929}</td>\n",
       "      <td>[pickup, delivery]</td>\n",
       "      <td>{'address1': '3223 Quentin Rd', 'address2': ''...</td>\n",
       "      <td>+17189980002</td>\n",
       "      <td>(718) 998-0002</td>\n",
       "      <td>11245.591058</td>\n",
       "      <td>$$$</td>\n",
       "    </tr>\n",
       "    <tr>\n",
       "      <th>997</th>\n",
       "      <td>vXYFa2qzppkGiOiVPrLwDQ</td>\n",
       "      <td>don-peppe-south-ozone-park-2</td>\n",
       "      <td>Don Peppe</td>\n",
       "      <td>https://s3-media1.fl.yelpcdn.com/bphoto/-9zuAl...</td>\n",
       "      <td>False</td>\n",
       "      <td>https://www.yelp.com/biz/don-peppe-south-ozone...</td>\n",
       "      <td>698</td>\n",
       "      <td>[{'alias': 'italian', 'title': 'Italian'}, {'a...</td>\n",
       "      <td>4.0</td>\n",
       "      <td>{'latitude': 40.6689814908178, 'longitude': -7...</td>\n",
       "      <td>[delivery]</td>\n",
       "      <td>{'address1': '135-58 Lefferts Blvd', 'address2...</td>\n",
       "      <td>+17188457587</td>\n",
       "      <td>(718) 845-7587</td>\n",
       "      <td>15112.179354</td>\n",
       "      <td>$$$</td>\n",
       "    </tr>\n",
       "    <tr>\n",
       "      <th>998</th>\n",
       "      <td>-BOAKHyKKAXE1WhuVpMFkQ</td>\n",
       "      <td>the-good-fork-pub-brooklyn-2</td>\n",
       "      <td>The Good Fork Pub</td>\n",
       "      <td>https://s3-media1.fl.yelpcdn.com/bphoto/qwmYaX...</td>\n",
       "      <td>False</td>\n",
       "      <td>https://www.yelp.com/biz/the-good-fork-pub-bro...</td>\n",
       "      <td>415</td>\n",
       "      <td>[{'alias': 'pubs', 'title': 'Pubs'}, {'alias':...</td>\n",
       "      <td>4.0</td>\n",
       "      <td>{'latitude': 40.67599, 'longitude': -74.01432}</td>\n",
       "      <td>[]</td>\n",
       "      <td>{'address1': '391 Van Brunt St', 'address2': '...</td>\n",
       "      <td>+17186436636</td>\n",
       "      <td>(718) 643-6636</td>\n",
       "      <td>3685.119835</td>\n",
       "      <td>$$</td>\n",
       "    </tr>\n",
       "    <tr>\n",
       "      <th>999</th>\n",
       "      <td>5u4T6-Z-KhHrRZ9g54pugQ</td>\n",
       "      <td>carols-bun-new-york-3</td>\n",
       "      <td>Carol's Bun</td>\n",
       "      <td>https://s3-media1.fl.yelpcdn.com/bphoto/igKwef...</td>\n",
       "      <td>False</td>\n",
       "      <td>https://www.yelp.com/biz/carols-bun-new-york-3...</td>\n",
       "      <td>64</td>\n",
       "      <td>[{'alias': 'chinese', 'title': 'Chinese'}]</td>\n",
       "      <td>4.5</td>\n",
       "      <td>{'latitude': 40.7138317002555, 'longitude': -7...</td>\n",
       "      <td>[pickup, delivery]</td>\n",
       "      <td>{'address1': '139 E Broadway', 'address2': '',...</td>\n",
       "      <td>+12125660203</td>\n",
       "      <td>(212) 566-0203</td>\n",
       "      <td>962.758314</td>\n",
       "      <td>$</td>\n",
       "    </tr>\n",
       "  </tbody>\n",
       "</table>\n",
       "</div>"
      ],
      "text/plain": [
       "                         id                         alias  \\\n",
       "995  6ur9R2Fmr-7qXlNnyoclEg          blume-hütte-new-york   \n",
       "996  Twwpqrl15EVhmaNnNSrSQw  t-fusion-steakhouse-brooklyn   \n",
       "997  vXYFa2qzppkGiOiVPrLwDQ  don-peppe-south-ozone-park-2   \n",
       "998  -BOAKHyKKAXE1WhuVpMFkQ  the-good-fork-pub-brooklyn-2   \n",
       "999  5u4T6-Z-KhHrRZ9g54pugQ         carols-bun-new-york-3   \n",
       "\n",
       "                    name                                          image_url  \\\n",
       "995          Blume/Hütte  https://s3-media2.fl.yelpcdn.com/bphoto/r9EcfF...   \n",
       "996  T Fusion Steakhouse  https://s3-media3.fl.yelpcdn.com/bphoto/sbEc7r...   \n",
       "997            Don Peppe  https://s3-media1.fl.yelpcdn.com/bphoto/-9zuAl...   \n",
       "998    The Good Fork Pub  https://s3-media1.fl.yelpcdn.com/bphoto/qwmYaX...   \n",
       "999          Carol's Bun  https://s3-media1.fl.yelpcdn.com/bphoto/igKwef...   \n",
       "\n",
       "     is_closed                                                url  \\\n",
       "995      False  https://www.yelp.com/biz/blume-h%C3%BCtte-new-...   \n",
       "996      False  https://www.yelp.com/biz/t-fusion-steakhouse-b...   \n",
       "997      False  https://www.yelp.com/biz/don-peppe-south-ozone...   \n",
       "998      False  https://www.yelp.com/biz/the-good-fork-pub-bro...   \n",
       "999      False  https://www.yelp.com/biz/carols-bun-new-york-3...   \n",
       "\n",
       "     review_count                                         categories  rating  \\\n",
       "995            52  [{'alias': 'sandwiches', 'title': 'Sandwiches'...     4.0   \n",
       "996            95  [{'alias': 'steak', 'title': 'Steakhouses'}, {...     4.0   \n",
       "997           698  [{'alias': 'italian', 'title': 'Italian'}, {'a...     4.0   \n",
       "998           415  [{'alias': 'pubs', 'title': 'Pubs'}, {'alias':...     4.0   \n",
       "999            64         [{'alias': 'chinese', 'title': 'Chinese'}]     4.5   \n",
       "\n",
       "                                           coordinates        transactions  \\\n",
       "995   {'latitude': 40.77754, 'longitude': -73.9517855}          [delivery]   \n",
       "996     {'latitude': 40.61336, 'longitude': -73.93929}  [pickup, delivery]   \n",
       "997  {'latitude': 40.6689814908178, 'longitude': -7...          [delivery]   \n",
       "998     {'latitude': 40.67599, 'longitude': -74.01432}                  []   \n",
       "999  {'latitude': 40.7138317002555, 'longitude': -7...  [pickup, delivery]   \n",
       "\n",
       "                                              location         phone  \\\n",
       "995  {'address1': '1652 2nd Ave', 'address2': '', '...  +16469810764   \n",
       "996  {'address1': '3223 Quentin Rd', 'address2': ''...  +17189980002   \n",
       "997  {'address1': '135-58 Lefferts Blvd', 'address2...  +17188457587   \n",
       "998  {'address1': '391 Van Brunt St', 'address2': '...  +17186436636   \n",
       "999  {'address1': '139 E Broadway', 'address2': '',...  +12125660203   \n",
       "\n",
       "      display_phone      distance price  \n",
       "995  (646) 981-0764   8780.141295   $$$  \n",
       "996  (718) 998-0002  11245.591058   $$$  \n",
       "997  (718) 845-7587  15112.179354   $$$  \n",
       "998  (718) 643-6636   3685.119835    $$  \n",
       "999  (212) 566-0203    962.758314     $  "
      ]
     },
     "metadata": {},
     "output_type": "display_data"
    }
   ],
   "source": [
    "# load final results\n",
    "final_df = pd.read_json(JSON_FILE)\n",
    "display(final_df.head(), final_df.tail())"
   ]
  },
  {
   "cell_type": "code",
   "execution_count": 17,
   "id": "f4c962e0-3290-44f0-be36-b054a0d679f1",
   "metadata": {},
   "outputs": [],
   "source": [
    "# save the final results to a compressed csv\n",
    "final_df.to_csv('Data/final_results_NY_Steak.csv.gz', compression='gzip',index=False)"
   ]
  },
  {
   "cell_type": "code",
   "execution_count": null,
   "id": "e14f851c-745d-48cc-8dc2-1411a143581c",
   "metadata": {},
   "outputs": [],
   "source": []
  }
 ],
 "metadata": {
  "kernelspec": {
   "display_name": "Python 3 (ipykernel)",
   "language": "python",
   "name": "python3"
  },
  "language_info": {
   "codemirror_mode": {
    "name": "ipython",
    "version": 3
   },
   "file_extension": ".py",
   "mimetype": "text/x-python",
   "name": "python",
   "nbconvert_exporter": "python",
   "pygments_lexer": "ipython3",
   "version": "3.10.10"
  },
  "widgets": {
   "application/vnd.jupyter.widget-state+json": {
    "state": {
     "081e90bc611346e7a53aecdf618d1fdd": {
      "model_module": "@jupyter-widgets/controls",
      "model_module_version": "2.0.0",
      "model_name": "HBoxModel",
      "state": {
       "children": [
        "IPY_MODEL_b60bd3cbc7c948f6917a97c6d3946412",
        "IPY_MODEL_1a1348705a124ab39aad1a110c184c17",
        "IPY_MODEL_dafd8b7246ce406ca4c62954f391f885"
       ],
       "layout": "IPY_MODEL_7123d55d5ce540fab7704081b9c5103f"
      }
     },
     "1a1348705a124ab39aad1a110c184c17": {
      "model_module": "@jupyter-widgets/controls",
      "model_module_version": "2.0.0",
      "model_name": "FloatProgressModel",
      "state": {
       "bar_style": "danger",
       "layout": "IPY_MODEL_ad7ac7843a664a46bcbf38d76df7e34d",
       "max": 815,
       "style": "IPY_MODEL_66a57b6539e54a278f972113e22432f7",
       "value": 50
      }
     },
     "5d3f21ff9ba64476ad99258543860689": {
      "model_module": "@jupyter-widgets/controls",
      "model_module_version": "2.0.0",
      "model_name": "HTMLStyleModel",
      "state": {
       "description_width": "",
       "font_size": null,
       "text_color": null
      }
     },
     "5eae8d53d6ff4cb59a7f709e9bbe71d3": {
      "model_module": "@jupyter-widgets/controls",
      "model_module_version": "2.0.0",
      "model_name": "HTMLStyleModel",
      "state": {
       "description_width": "",
       "font_size": null,
       "text_color": null
      }
     },
     "66a57b6539e54a278f972113e22432f7": {
      "model_module": "@jupyter-widgets/controls",
      "model_module_version": "2.0.0",
      "model_name": "ProgressStyleModel",
      "state": {
       "description_width": ""
      }
     },
     "7123d55d5ce540fab7704081b9c5103f": {
      "model_module": "@jupyter-widgets/base",
      "model_module_version": "2.0.0",
      "model_name": "LayoutModel",
      "state": {}
     },
     "ad7ac7843a664a46bcbf38d76df7e34d": {
      "model_module": "@jupyter-widgets/base",
      "model_module_version": "2.0.0",
      "model_name": "LayoutModel",
      "state": {}
     },
     "b60bd3cbc7c948f6917a97c6d3946412": {
      "model_module": "@jupyter-widgets/controls",
      "model_module_version": "2.0.0",
      "model_name": "HTMLModel",
      "state": {
       "layout": "IPY_MODEL_b85c24aa8d214cc182b58f36e0d3559a",
       "style": "IPY_MODEL_5eae8d53d6ff4cb59a7f709e9bbe71d3",
       "value": "  6%"
      }
     },
     "b85c24aa8d214cc182b58f36e0d3559a": {
      "model_module": "@jupyter-widgets/base",
      "model_module_version": "2.0.0",
      "model_name": "LayoutModel",
      "state": {}
     },
     "d1e3af29ef6e4666a6a822905ade9893": {
      "model_module": "@jupyter-widgets/base",
      "model_module_version": "2.0.0",
      "model_name": "LayoutModel",
      "state": {}
     },
     "dafd8b7246ce406ca4c62954f391f885": {
      "model_module": "@jupyter-widgets/controls",
      "model_module_version": "2.0.0",
      "model_name": "HTMLModel",
      "state": {
       "layout": "IPY_MODEL_d1e3af29ef6e4666a6a822905ade9893",
       "style": "IPY_MODEL_5d3f21ff9ba64476ad99258543860689",
       "value": " 50/815 [01:39&lt;33:26,  2.62s/it]"
      }
     }
    },
    "version_major": 2,
    "version_minor": 0
   }
  }
 },
 "nbformat": 4,
 "nbformat_minor": 5
}
