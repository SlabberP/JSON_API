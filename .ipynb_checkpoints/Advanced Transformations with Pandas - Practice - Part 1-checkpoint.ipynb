{
 "cells": [
  {
   "cell_type": "markdown",
   "id": "788d7262-c1bc-46c9-acf8-3a9368f4c5af",
   "metadata": {},
   "source": [
    "## **Advanced Transformations with Pandas - Practice - Part 1**"
   ]
  },
  {
   "cell_type": "markdown",
   "id": "76c5de03-6183-46bd-8978-bd31e6209e9f",
   "metadata": {},
   "source": [
    "Loading the Data"
   ]
  },
  {
   "cell_type": "code",
   "execution_count": 35,
   "id": "33583b97-0dfa-416e-b489-49e3eeaa4da0",
   "metadata": {},
   "outputs": [],
   "source": [
    "## Standard Imports\n",
    "import numpy as np\n",
    "import pandas as pd\n",
    "import matplotlib.pyplot as plt\n",
    "import seaborn as sns\n",
    "## Importing the OS and JSON Modules\n",
    "import os,json"
   ]
  },
  {
   "cell_type": "code",
   "execution_count": 8,
   "id": "0ef7d774-75b7-4858-a7e2-0437e968687e",
   "metadata": {},
   "outputs": [
    {
     "data": {
      "text/html": [
       "<div>\n",
       "<style scoped>\n",
       "    .dataframe tbody tr th:only-of-type {\n",
       "        vertical-align: middle;\n",
       "    }\n",
       "\n",
       "    .dataframe tbody tr th {\n",
       "        vertical-align: top;\n",
       "    }\n",
       "\n",
       "    .dataframe thead th {\n",
       "        text-align: right;\n",
       "    }\n",
       "</style>\n",
       "<table border=\"1\" class=\"dataframe\">\n",
       "  <thead>\n",
       "    <tr style=\"text-align: right;\">\n",
       "      <th></th>\n",
       "      <th>id</th>\n",
       "      <th>alias</th>\n",
       "      <th>name</th>\n",
       "      <th>image_url</th>\n",
       "      <th>is_closed</th>\n",
       "      <th>url</th>\n",
       "      <th>review_count</th>\n",
       "      <th>categories</th>\n",
       "      <th>rating</th>\n",
       "      <th>coordinates</th>\n",
       "      <th>transactions</th>\n",
       "      <th>price</th>\n",
       "      <th>location</th>\n",
       "      <th>phone</th>\n",
       "      <th>display_phone</th>\n",
       "      <th>distance</th>\n",
       "    </tr>\n",
       "  </thead>\n",
       "  <tbody>\n",
       "    <tr>\n",
       "      <th>0</th>\n",
       "      <td>D9A33FM394q99o4QtK5YwA</td>\n",
       "      <td>faidleys-seafood-baltimore-3</td>\n",
       "      <td>Faidleys Seafood</td>\n",
       "      <td>https://s3-media3.fl.yelpcdn.com/bphoto/OTjVDC...</td>\n",
       "      <td>False</td>\n",
       "      <td>https://www.yelp.com/biz/faidleys-seafood-balt...</td>\n",
       "      <td>1181</td>\n",
       "      <td>[{'alias': 'seafood', 'title': 'Seafood'}, {'a...</td>\n",
       "      <td>4.0</td>\n",
       "      <td>{'latitude': 39.291696, 'longitude': -76.62224}</td>\n",
       "      <td>['delivery']</td>\n",
       "      <td>$$</td>\n",
       "      <td>{'address1': '203 N Paca St', 'address2': '', ...</td>\n",
       "      <td>1.410727e+10</td>\n",
       "      <td>(410) 727-4898</td>\n",
       "      <td>1349.560720</td>\n",
       "    </tr>\n",
       "    <tr>\n",
       "      <th>1</th>\n",
       "      <td>ieS_5zqxDHcWMCm8BKUYbg</td>\n",
       "      <td>thames-street-oyster-house-baltimore</td>\n",
       "      <td>Thames Street Oyster House</td>\n",
       "      <td>https://s3-media1.fl.yelpcdn.com/bphoto/9hGjo5...</td>\n",
       "      <td>False</td>\n",
       "      <td>https://www.yelp.com/biz/thames-street-oyster-...</td>\n",
       "      <td>2726</td>\n",
       "      <td>[{'alias': 'seafood', 'title': 'Seafood'}, {'a...</td>\n",
       "      <td>4.5</td>\n",
       "      <td>{'latitude': 39.28214, 'longitude': -76.59162}</td>\n",
       "      <td>['delivery']</td>\n",
       "      <td>$$$</td>\n",
       "      <td>{'address1': '1728 Thames St', 'address2': '',...</td>\n",
       "      <td>1.443450e+10</td>\n",
       "      <td>(443) 449-7726</td>\n",
       "      <td>2090.712792</td>\n",
       "    </tr>\n",
       "    <tr>\n",
       "      <th>2</th>\n",
       "      <td>u65W69AhbjUlvJJBkEhGNQ</td>\n",
       "      <td>miss-shirleys-cafe-baltimore-9</td>\n",
       "      <td>Miss Shirley's Cafe</td>\n",
       "      <td>https://s3-media4.fl.yelpcdn.com/bphoto/9FsOyV...</td>\n",
       "      <td>False</td>\n",
       "      <td>https://www.yelp.com/biz/miss-shirleys-cafe-ba...</td>\n",
       "      <td>2918</td>\n",
       "      <td>[{'alias': 'breakfast_brunch', 'title': 'Break...</td>\n",
       "      <td>4.0</td>\n",
       "      <td>{'latitude': 39.2870995, 'longitude': -76.6053...</td>\n",
       "      <td>['pickup', 'delivery']</td>\n",
       "      <td>$$</td>\n",
       "      <td>{'address1': '750 E Pratt St', 'address2': '',...</td>\n",
       "      <td>1.410529e+10</td>\n",
       "      <td>(410) 528-5373</td>\n",
       "      <td>1028.736468</td>\n",
       "    </tr>\n",
       "    <tr>\n",
       "      <th>3</th>\n",
       "      <td>6am8TZAFnvND52MOz-Yctg</td>\n",
       "      <td>mamas-on-the-half-shell-baltimore</td>\n",
       "      <td>Mama's On The Half Shell</td>\n",
       "      <td>https://s3-media2.fl.yelpcdn.com/bphoto/HWY8OF...</td>\n",
       "      <td>False</td>\n",
       "      <td>https://www.yelp.com/biz/mamas-on-the-half-she...</td>\n",
       "      <td>1277</td>\n",
       "      <td>[{'alias': 'bars', 'title': 'Bars'}, {'alias':...</td>\n",
       "      <td>4.0</td>\n",
       "      <td>{'latitude': 39.27986, 'longitude': -76.5752399}</td>\n",
       "      <td>['pickup', 'delivery']</td>\n",
       "      <td>$$</td>\n",
       "      <td>{'address1': '2901 Odonnell St', 'address2': '...</td>\n",
       "      <td>1.410276e+10</td>\n",
       "      <td>(410) 276-3160</td>\n",
       "      <td>3328.825798</td>\n",
       "    </tr>\n",
       "    <tr>\n",
       "      <th>4</th>\n",
       "      <td>p_XPpHiZbdOccx2jFUgZJA</td>\n",
       "      <td>the-local-oyster-baltimore</td>\n",
       "      <td>The Local Oyster</td>\n",
       "      <td>https://s3-media3.fl.yelpcdn.com/bphoto/u_33ay...</td>\n",
       "      <td>False</td>\n",
       "      <td>https://www.yelp.com/biz/the-local-oyster-balt...</td>\n",
       "      <td>217</td>\n",
       "      <td>[{'alias': 'seafood', 'title': 'Seafood'}, {'a...</td>\n",
       "      <td>4.0</td>\n",
       "      <td>{'latitude': 39.2958288, 'longitude': -76.6188...</td>\n",
       "      <td>['delivery']</td>\n",
       "      <td>$$</td>\n",
       "      <td>{'address1': '520 Park Ave', 'address2': None,...</td>\n",
       "      <td>1.844748e+10</td>\n",
       "      <td>(844) 748-2537</td>\n",
       "      <td>966.729941</td>\n",
       "    </tr>\n",
       "  </tbody>\n",
       "</table>\n",
       "</div>"
      ],
      "text/plain": [
       "                       id                                 alias  \\\n",
       "0  D9A33FM394q99o4QtK5YwA          faidleys-seafood-baltimore-3   \n",
       "1  ieS_5zqxDHcWMCm8BKUYbg  thames-street-oyster-house-baltimore   \n",
       "2  u65W69AhbjUlvJJBkEhGNQ        miss-shirleys-cafe-baltimore-9   \n",
       "3  6am8TZAFnvND52MOz-Yctg     mamas-on-the-half-shell-baltimore   \n",
       "4  p_XPpHiZbdOccx2jFUgZJA            the-local-oyster-baltimore   \n",
       "\n",
       "                         name  \\\n",
       "0            Faidleys Seafood   \n",
       "1  Thames Street Oyster House   \n",
       "2         Miss Shirley's Cafe   \n",
       "3    Mama's On The Half Shell   \n",
       "4            The Local Oyster   \n",
       "\n",
       "                                           image_url  is_closed  \\\n",
       "0  https://s3-media3.fl.yelpcdn.com/bphoto/OTjVDC...      False   \n",
       "1  https://s3-media1.fl.yelpcdn.com/bphoto/9hGjo5...      False   \n",
       "2  https://s3-media4.fl.yelpcdn.com/bphoto/9FsOyV...      False   \n",
       "3  https://s3-media2.fl.yelpcdn.com/bphoto/HWY8OF...      False   \n",
       "4  https://s3-media3.fl.yelpcdn.com/bphoto/u_33ay...      False   \n",
       "\n",
       "                                                 url  review_count  \\\n",
       "0  https://www.yelp.com/biz/faidleys-seafood-balt...          1181   \n",
       "1  https://www.yelp.com/biz/thames-street-oyster-...          2726   \n",
       "2  https://www.yelp.com/biz/miss-shirleys-cafe-ba...          2918   \n",
       "3  https://www.yelp.com/biz/mamas-on-the-half-she...          1277   \n",
       "4  https://www.yelp.com/biz/the-local-oyster-balt...           217   \n",
       "\n",
       "                                          categories  rating  \\\n",
       "0  [{'alias': 'seafood', 'title': 'Seafood'}, {'a...     4.0   \n",
       "1  [{'alias': 'seafood', 'title': 'Seafood'}, {'a...     4.5   \n",
       "2  [{'alias': 'breakfast_brunch', 'title': 'Break...     4.0   \n",
       "3  [{'alias': 'bars', 'title': 'Bars'}, {'alias':...     4.0   \n",
       "4  [{'alias': 'seafood', 'title': 'Seafood'}, {'a...     4.0   \n",
       "\n",
       "                                         coordinates            transactions  \\\n",
       "0    {'latitude': 39.291696, 'longitude': -76.62224}            ['delivery']   \n",
       "1     {'latitude': 39.28214, 'longitude': -76.59162}            ['delivery']   \n",
       "2  {'latitude': 39.2870995, 'longitude': -76.6053...  ['pickup', 'delivery']   \n",
       "3   {'latitude': 39.27986, 'longitude': -76.5752399}  ['pickup', 'delivery']   \n",
       "4  {'latitude': 39.2958288, 'longitude': -76.6188...            ['delivery']   \n",
       "\n",
       "  price                                           location         phone  \\\n",
       "0    $$  {'address1': '203 N Paca St', 'address2': '', ...  1.410727e+10   \n",
       "1   $$$  {'address1': '1728 Thames St', 'address2': '',...  1.443450e+10   \n",
       "2    $$  {'address1': '750 E Pratt St', 'address2': '',...  1.410529e+10   \n",
       "3    $$  {'address1': '2901 Odonnell St', 'address2': '...  1.410276e+10   \n",
       "4    $$  {'address1': '520 Park Ave', 'address2': None,...  1.844748e+10   \n",
       "\n",
       "    display_phone     distance  \n",
       "0  (410) 727-4898  1349.560720  \n",
       "1  (443) 449-7726  2090.712792  \n",
       "2  (410) 528-5373  1028.736468  \n",
       "3  (410) 276-3160  3328.825798  \n",
       "4  (844) 748-2537   966.729941  "
      ]
     },
     "execution_count": 8,
     "metadata": {},
     "output_type": "execute_result"
    }
   ],
   "source": [
    "df = pd.read_csv('/Users/tspiet/Documents/GitHub/JSON_API/Data/final_results_crab_cakes.csv.gz')\n",
    "df.head()"
   ]
  },
  {
   "cell_type": "code",
   "execution_count": 4,
   "id": "d0b13533-e741-408a-ba0d-0311cdea23b6",
   "metadata": {},
   "outputs": [
    {
     "name": "stdout",
     "output_type": "stream",
     "text": [
      "<class 'pandas.core.frame.DataFrame'>\n",
      "RangeIndex: 429 entries, 0 to 428\n",
      "Data columns (total 16 columns):\n",
      " #   Column         Non-Null Count  Dtype  \n",
      "---  ------         --------------  -----  \n",
      " 0   id             429 non-null    object \n",
      " 1   alias          429 non-null    object \n",
      " 2   name           429 non-null    object \n",
      " 3   image_url      420 non-null    object \n",
      " 4   is_closed      429 non-null    bool   \n",
      " 5   url            429 non-null    object \n",
      " 6   review_count   429 non-null    int64  \n",
      " 7   categories     429 non-null    object \n",
      " 8   rating         429 non-null    float64\n",
      " 9   coordinates    429 non-null    object \n",
      " 10  transactions   429 non-null    object \n",
      " 11  price          339 non-null    object \n",
      " 12  location       429 non-null    object \n",
      " 13  phone          413 non-null    float64\n",
      " 14  display_phone  413 non-null    object \n",
      " 15  distance       429 non-null    float64\n",
      "dtypes: bool(1), float64(3), int64(1), object(11)\n",
      "memory usage: 50.8+ KB\n"
     ]
    }
   ],
   "source": [
    "df.info()"
   ]
  },
  {
   "cell_type": "markdown",
   "id": "78d7947c-01fc-4b41-8ca9-e6b0c2816daa",
   "metadata": {},
   "source": [
    "### **1. Separate a string column into multiple columns.**"
   ]
  },
  {
   "cell_type": "markdown",
   "id": "c6da3527-6a0f-403d-9064-ce9c40f97597",
   "metadata": {},
   "source": [
    "**The \"display_phone\" column:**\n",
    "\n",
    "**Separate into Area Code and Phone Number.**\n",
    "\n",
    "As with most tasks with Python/Pandas, we have multiple options on how to tackle this. We will cover just one approach in this lesson: using **.str.split** with **expand=True**"
   ]
  },
  {
   "cell_type": "code",
   "execution_count": 6,
   "id": "c10a9f01-3792-46b1-a8aa-2b2b96e81dd2",
   "metadata": {},
   "outputs": [
    {
     "data": {
      "text/plain": [
       "0    (410) 727-4898\n",
       "1    (443) 449-7726\n",
       "Name: display_phone, dtype: object"
      ]
     },
     "execution_count": 6,
     "metadata": {},
     "output_type": "execute_result"
    }
   ],
   "source": [
    "# Exploring existing format with a few examples\n",
    "df['display_phone'].head(2)"
   ]
  },
  {
   "cell_type": "markdown",
   "id": "ccc802ed-1aaa-4dd2-bb68-344f5bba119f",
   "metadata": {},
   "source": [
    "Examining our example strings above, we can see that there is a space between the area code and the rest of the phone number\n",
    "We can use **str.split()** to separate each string in the column.  \n",
    "If we add **expand=True** , Pandas will **automatically split the column into multiple columns!**  "
   ]
  },
  {
   "cell_type": "code",
   "execution_count": 9,
   "id": "fa1d66c6-bea2-4849-985b-3bff6d407f23",
   "metadata": {},
   "outputs": [
    {
     "data": {
      "text/html": [
       "<div>\n",
       "<style scoped>\n",
       "    .dataframe tbody tr th:only-of-type {\n",
       "        vertical-align: middle;\n",
       "    }\n",
       "\n",
       "    .dataframe tbody tr th {\n",
       "        vertical-align: top;\n",
       "    }\n",
       "\n",
       "    .dataframe thead th {\n",
       "        text-align: right;\n",
       "    }\n",
       "</style>\n",
       "<table border=\"1\" class=\"dataframe\">\n",
       "  <thead>\n",
       "    <tr style=\"text-align: right;\">\n",
       "      <th></th>\n",
       "      <th>0</th>\n",
       "      <th>1</th>\n",
       "    </tr>\n",
       "  </thead>\n",
       "  <tbody>\n",
       "    <tr>\n",
       "      <th>0</th>\n",
       "      <td>(410)</td>\n",
       "      <td>727-4898</td>\n",
       "    </tr>\n",
       "    <tr>\n",
       "      <th>1</th>\n",
       "      <td>(443)</td>\n",
       "      <td>449-7726</td>\n",
       "    </tr>\n",
       "    <tr>\n",
       "      <th>2</th>\n",
       "      <td>(410)</td>\n",
       "      <td>528-5373</td>\n",
       "    </tr>\n",
       "    <tr>\n",
       "      <th>3</th>\n",
       "      <td>(410)</td>\n",
       "      <td>276-3160</td>\n",
       "    </tr>\n",
       "    <tr>\n",
       "      <th>4</th>\n",
       "      <td>(844)</td>\n",
       "      <td>748-2537</td>\n",
       "    </tr>\n",
       "    <tr>\n",
       "      <th>...</th>\n",
       "      <td>...</td>\n",
       "      <td>...</td>\n",
       "    </tr>\n",
       "    <tr>\n",
       "      <th>424</th>\n",
       "      <td>(410)</td>\n",
       "      <td>889-8891</td>\n",
       "    </tr>\n",
       "    <tr>\n",
       "      <th>425</th>\n",
       "      <td>(410)</td>\n",
       "      <td>235-2300</td>\n",
       "    </tr>\n",
       "    <tr>\n",
       "      <th>426</th>\n",
       "      <td>(410)</td>\n",
       "      <td>522-7757</td>\n",
       "    </tr>\n",
       "    <tr>\n",
       "      <th>427</th>\n",
       "      <td>(410)</td>\n",
       "      <td>889-3663</td>\n",
       "    </tr>\n",
       "    <tr>\n",
       "      <th>428</th>\n",
       "      <td>(410)</td>\n",
       "      <td>243-1301</td>\n",
       "    </tr>\n",
       "  </tbody>\n",
       "</table>\n",
       "<p>429 rows × 2 columns</p>\n",
       "</div>"
      ],
      "text/plain": [
       "         0         1\n",
       "0    (410)  727-4898\n",
       "1    (443)  449-7726\n",
       "2    (410)  528-5373\n",
       "3    (410)  276-3160\n",
       "4    (844)  748-2537\n",
       "..     ...       ...\n",
       "424  (410)  889-8891\n",
       "425  (410)  235-2300\n",
       "426  (410)  522-7757\n",
       "427  (410)  889-3663\n",
       "428  (410)  243-1301\n",
       "\n",
       "[429 rows x 2 columns]"
      ]
     },
     "execution_count": 9,
     "metadata": {},
     "output_type": "execute_result"
    }
   ],
   "source": [
    "## adding expand=True\n",
    "df['display_phone'].str.split(' ',expand=True)"
   ]
  },
  {
   "cell_type": "markdown",
   "id": "8c8c4145-cd99-45dc-a016-c02444f48a78",
   "metadata": {},
   "source": [
    "To save these new columns in our dataframe, we can **use a list of 2 column names** to save these 2 new columns from our .split"
   ]
  },
  {
   "cell_type": "code",
   "execution_count": 10,
   "id": "5c85fecf-f671-4fa8-beb7-45e62535ca27",
   "metadata": {},
   "outputs": [
    {
     "data": {
      "text/html": [
       "<div>\n",
       "<style scoped>\n",
       "    .dataframe tbody tr th:only-of-type {\n",
       "        vertical-align: middle;\n",
       "    }\n",
       "\n",
       "    .dataframe tbody tr th {\n",
       "        vertical-align: top;\n",
       "    }\n",
       "\n",
       "    .dataframe thead th {\n",
       "        text-align: right;\n",
       "    }\n",
       "</style>\n",
       "<table border=\"1\" class=\"dataframe\">\n",
       "  <thead>\n",
       "    <tr style=\"text-align: right;\">\n",
       "      <th></th>\n",
       "      <th>id</th>\n",
       "      <th>alias</th>\n",
       "      <th>name</th>\n",
       "      <th>image_url</th>\n",
       "      <th>is_closed</th>\n",
       "      <th>url</th>\n",
       "      <th>review_count</th>\n",
       "      <th>categories</th>\n",
       "      <th>rating</th>\n",
       "      <th>coordinates</th>\n",
       "      <th>transactions</th>\n",
       "      <th>price</th>\n",
       "      <th>location</th>\n",
       "      <th>phone</th>\n",
       "      <th>display_phone</th>\n",
       "      <th>distance</th>\n",
       "      <th>area_code</th>\n",
       "      <th>phone_number</th>\n",
       "    </tr>\n",
       "  </thead>\n",
       "  <tbody>\n",
       "    <tr>\n",
       "      <th>0</th>\n",
       "      <td>D9A33FM394q99o4QtK5YwA</td>\n",
       "      <td>faidleys-seafood-baltimore-3</td>\n",
       "      <td>Faidleys Seafood</td>\n",
       "      <td>https://s3-media3.fl.yelpcdn.com/bphoto/OTjVDC...</td>\n",
       "      <td>False</td>\n",
       "      <td>https://www.yelp.com/biz/faidleys-seafood-balt...</td>\n",
       "      <td>1181</td>\n",
       "      <td>[{'alias': 'seafood', 'title': 'Seafood'}, {'a...</td>\n",
       "      <td>4.0</td>\n",
       "      <td>{'latitude': 39.291696, 'longitude': -76.62224}</td>\n",
       "      <td>['delivery']</td>\n",
       "      <td>$$</td>\n",
       "      <td>{'address1': '203 N Paca St', 'address2': '', ...</td>\n",
       "      <td>1.410727e+10</td>\n",
       "      <td>(410) 727-4898</td>\n",
       "      <td>1349.560720</td>\n",
       "      <td>(410)</td>\n",
       "      <td>727-4898</td>\n",
       "    </tr>\n",
       "    <tr>\n",
       "      <th>1</th>\n",
       "      <td>ieS_5zqxDHcWMCm8BKUYbg</td>\n",
       "      <td>thames-street-oyster-house-baltimore</td>\n",
       "      <td>Thames Street Oyster House</td>\n",
       "      <td>https://s3-media1.fl.yelpcdn.com/bphoto/9hGjo5...</td>\n",
       "      <td>False</td>\n",
       "      <td>https://www.yelp.com/biz/thames-street-oyster-...</td>\n",
       "      <td>2726</td>\n",
       "      <td>[{'alias': 'seafood', 'title': 'Seafood'}, {'a...</td>\n",
       "      <td>4.5</td>\n",
       "      <td>{'latitude': 39.28214, 'longitude': -76.59162}</td>\n",
       "      <td>['delivery']</td>\n",
       "      <td>$$$</td>\n",
       "      <td>{'address1': '1728 Thames St', 'address2': '',...</td>\n",
       "      <td>1.443450e+10</td>\n",
       "      <td>(443) 449-7726</td>\n",
       "      <td>2090.712792</td>\n",
       "      <td>(443)</td>\n",
       "      <td>449-7726</td>\n",
       "    </tr>\n",
       "  </tbody>\n",
       "</table>\n",
       "</div>"
      ],
      "text/plain": [
       "                       id                                 alias  \\\n",
       "0  D9A33FM394q99o4QtK5YwA          faidleys-seafood-baltimore-3   \n",
       "1  ieS_5zqxDHcWMCm8BKUYbg  thames-street-oyster-house-baltimore   \n",
       "\n",
       "                         name  \\\n",
       "0            Faidleys Seafood   \n",
       "1  Thames Street Oyster House   \n",
       "\n",
       "                                           image_url  is_closed  \\\n",
       "0  https://s3-media3.fl.yelpcdn.com/bphoto/OTjVDC...      False   \n",
       "1  https://s3-media1.fl.yelpcdn.com/bphoto/9hGjo5...      False   \n",
       "\n",
       "                                                 url  review_count  \\\n",
       "0  https://www.yelp.com/biz/faidleys-seafood-balt...          1181   \n",
       "1  https://www.yelp.com/biz/thames-street-oyster-...          2726   \n",
       "\n",
       "                                          categories  rating  \\\n",
       "0  [{'alias': 'seafood', 'title': 'Seafood'}, {'a...     4.0   \n",
       "1  [{'alias': 'seafood', 'title': 'Seafood'}, {'a...     4.5   \n",
       "\n",
       "                                       coordinates  transactions price  \\\n",
       "0  {'latitude': 39.291696, 'longitude': -76.62224}  ['delivery']    $$   \n",
       "1   {'latitude': 39.28214, 'longitude': -76.59162}  ['delivery']   $$$   \n",
       "\n",
       "                                            location         phone  \\\n",
       "0  {'address1': '203 N Paca St', 'address2': '', ...  1.410727e+10   \n",
       "1  {'address1': '1728 Thames St', 'address2': '',...  1.443450e+10   \n",
       "\n",
       "    display_phone     distance area_code phone_number  \n",
       "0  (410) 727-4898  1349.560720     (410)     727-4898  \n",
       "1  (443) 449-7726  2090.712792     (443)     449-7726  "
      ]
     },
     "execution_count": 10,
     "metadata": {},
     "output_type": "execute_result"
    }
   ],
   "source": [
    "## save the 2 new columns into the dataframe\n",
    "df[['area_code','phone_number']] = df['display_phone'].str.split(' ',expand=True)\n",
    "df.head(2)"
   ]
  },
  {
   "cell_type": "markdown",
   "id": "a5d37295-ac02-4e9b-8d4e-0df46d1c91ba",
   "metadata": {},
   "source": [
    "Now that you have these columns, you no longer need the original display_phone column or phone columns, so you can drop them:"
   ]
  },
  {
   "cell_type": "code",
   "execution_count": 11,
   "id": "13fcc2b8-4808-46a4-9604-501dadb2a75f",
   "metadata": {},
   "outputs": [
    {
     "data": {
      "text/html": [
       "<div>\n",
       "<style scoped>\n",
       "    .dataframe tbody tr th:only-of-type {\n",
       "        vertical-align: middle;\n",
       "    }\n",
       "\n",
       "    .dataframe tbody tr th {\n",
       "        vertical-align: top;\n",
       "    }\n",
       "\n",
       "    .dataframe thead th {\n",
       "        text-align: right;\n",
       "    }\n",
       "</style>\n",
       "<table border=\"1\" class=\"dataframe\">\n",
       "  <thead>\n",
       "    <tr style=\"text-align: right;\">\n",
       "      <th></th>\n",
       "      <th>id</th>\n",
       "      <th>alias</th>\n",
       "      <th>name</th>\n",
       "      <th>image_url</th>\n",
       "      <th>is_closed</th>\n",
       "      <th>url</th>\n",
       "      <th>review_count</th>\n",
       "      <th>categories</th>\n",
       "      <th>rating</th>\n",
       "      <th>coordinates</th>\n",
       "      <th>transactions</th>\n",
       "      <th>price</th>\n",
       "      <th>location</th>\n",
       "      <th>distance</th>\n",
       "      <th>area_code</th>\n",
       "      <th>phone_number</th>\n",
       "    </tr>\n",
       "  </thead>\n",
       "  <tbody>\n",
       "    <tr>\n",
       "      <th>0</th>\n",
       "      <td>D9A33FM394q99o4QtK5YwA</td>\n",
       "      <td>faidleys-seafood-baltimore-3</td>\n",
       "      <td>Faidleys Seafood</td>\n",
       "      <td>https://s3-media3.fl.yelpcdn.com/bphoto/OTjVDC...</td>\n",
       "      <td>False</td>\n",
       "      <td>https://www.yelp.com/biz/faidleys-seafood-balt...</td>\n",
       "      <td>1181</td>\n",
       "      <td>[{'alias': 'seafood', 'title': 'Seafood'}, {'a...</td>\n",
       "      <td>4.0</td>\n",
       "      <td>{'latitude': 39.291696, 'longitude': -76.62224}</td>\n",
       "      <td>['delivery']</td>\n",
       "      <td>$$</td>\n",
       "      <td>{'address1': '203 N Paca St', 'address2': '', ...</td>\n",
       "      <td>1349.560720</td>\n",
       "      <td>(410)</td>\n",
       "      <td>727-4898</td>\n",
       "    </tr>\n",
       "    <tr>\n",
       "      <th>1</th>\n",
       "      <td>ieS_5zqxDHcWMCm8BKUYbg</td>\n",
       "      <td>thames-street-oyster-house-baltimore</td>\n",
       "      <td>Thames Street Oyster House</td>\n",
       "      <td>https://s3-media1.fl.yelpcdn.com/bphoto/9hGjo5...</td>\n",
       "      <td>False</td>\n",
       "      <td>https://www.yelp.com/biz/thames-street-oyster-...</td>\n",
       "      <td>2726</td>\n",
       "      <td>[{'alias': 'seafood', 'title': 'Seafood'}, {'a...</td>\n",
       "      <td>4.5</td>\n",
       "      <td>{'latitude': 39.28214, 'longitude': -76.59162}</td>\n",
       "      <td>['delivery']</td>\n",
       "      <td>$$$</td>\n",
       "      <td>{'address1': '1728 Thames St', 'address2': '',...</td>\n",
       "      <td>2090.712792</td>\n",
       "      <td>(443)</td>\n",
       "      <td>449-7726</td>\n",
       "    </tr>\n",
       "  </tbody>\n",
       "</table>\n",
       "</div>"
      ],
      "text/plain": [
       "                       id                                 alias  \\\n",
       "0  D9A33FM394q99o4QtK5YwA          faidleys-seafood-baltimore-3   \n",
       "1  ieS_5zqxDHcWMCm8BKUYbg  thames-street-oyster-house-baltimore   \n",
       "\n",
       "                         name  \\\n",
       "0            Faidleys Seafood   \n",
       "1  Thames Street Oyster House   \n",
       "\n",
       "                                           image_url  is_closed  \\\n",
       "0  https://s3-media3.fl.yelpcdn.com/bphoto/OTjVDC...      False   \n",
       "1  https://s3-media1.fl.yelpcdn.com/bphoto/9hGjo5...      False   \n",
       "\n",
       "                                                 url  review_count  \\\n",
       "0  https://www.yelp.com/biz/faidleys-seafood-balt...          1181   \n",
       "1  https://www.yelp.com/biz/thames-street-oyster-...          2726   \n",
       "\n",
       "                                          categories  rating  \\\n",
       "0  [{'alias': 'seafood', 'title': 'Seafood'}, {'a...     4.0   \n",
       "1  [{'alias': 'seafood', 'title': 'Seafood'}, {'a...     4.5   \n",
       "\n",
       "                                       coordinates  transactions price  \\\n",
       "0  {'latitude': 39.291696, 'longitude': -76.62224}  ['delivery']    $$   \n",
       "1   {'latitude': 39.28214, 'longitude': -76.59162}  ['delivery']   $$$   \n",
       "\n",
       "                                            location     distance area_code  \\\n",
       "0  {'address1': '203 N Paca St', 'address2': '', ...  1349.560720     (410)   \n",
       "1  {'address1': '1728 Thames St', 'address2': '',...  2090.712792     (443)   \n",
       "\n",
       "  phone_number  \n",
       "0     727-4898  \n",
       "1     449-7726  "
      ]
     },
     "execution_count": 11,
     "metadata": {},
     "output_type": "execute_result"
    }
   ],
   "source": [
    "## drop the original column \n",
    "df = df.drop(columns=['display_phone', 'phone'])\n",
    "df.head(2)"
   ]
  },
  {
   "cell_type": "markdown",
   "id": "e019d8ca-3414-4d83-8b10-c17554756edb",
   "metadata": {},
   "source": [
    "### **2. Replacing multiple characters at once within a string column**"
   ]
  },
  {
   "cell_type": "markdown",
   "id": "c83bbb03-b875-409a-a680-c562473f0e60",
   "metadata": {},
   "source": [
    "Using df[col].str.replace in a loop"
   ]
  },
  {
   "cell_type": "markdown",
   "id": "2a4f8314-5e0b-4952-a484-25399c0b7de1",
   "metadata": {},
   "source": [
    "- We want to remove both the open and closed parentheses from the area codes.\n",
    "\n",
    "- One option would be to use **df[col].str.replace()** several times. One for each character we want to replace. In this case, the **left ( and once for the right )**.  This allows us to replace multiple characters more easily.\n",
    "  -  Note: to prevent a Pandas FutureWarning about changes to .str.replace, we can explicitly say regex=False.\n",
    "- Here we will use a for loop to replace both. \n",
    "- Note that we are really removing the characters and not literally replacing them because there is nothing between the open and close parenthesis. \n"
   ]
  },
  {
   "cell_type": "code",
   "execution_count": 12,
   "id": "70abfbae-c289-41f1-ae3a-f86c3bfa019e",
   "metadata": {},
   "outputs": [
    {
     "data": {
      "text/plain": [
       "0    410\n",
       "1    443\n",
       "2    410\n",
       "3    410\n",
       "4    844\n",
       "Name: area_code, dtype: object"
      ]
     },
     "execution_count": 12,
     "metadata": {},
     "output_type": "execute_result"
    }
   ],
   "source": [
    "# Make a list of all characters to replace\n",
    "to_replace = ['(',')']\n",
    "# run a loop to replace all of the characters in the list at once\n",
    "for char in to_replace:\n",
    "    df['area_code'] = df['area_code'].str.replace(char,'',regex=False)\n",
    "df['area_code'].head()"
   ]
  },
  {
   "cell_type": "markdown",
   "id": "e3d88b9c-d356-4680-9ee6-eca5f360d3e5",
   "metadata": {},
   "source": [
    "### **3. Converting a string column of dictionaries into actual dictionaries.**"
   ]
  },
  {
   "cell_type": "markdown",
   "id": "c0aaa7a4-9751-4d0e-b0af-de0107b88fb8",
   "metadata": {},
   "source": [
    "- We ultimately want to separate the \"coordinates\" column into two separate \"latitude\" and \"longitude\" columns.\n",
    "- \tWhen previewing the entire dataframe, it looks like we have a column that contains dictionaries - but this is misleading!\n",
    "    - o\tLet's use .loc to isolate a single value from the coordinates column.\r\n"
   ]
  },
  {
   "cell_type": "code",
   "execution_count": 14,
   "id": "adf3d054-8aa9-4e7b-94dd-efb5571f41bf",
   "metadata": {},
   "outputs": [
    {
     "name": "stdout",
     "output_type": "stream",
     "text": [
      "<class 'str'>\n"
     ]
    },
    {
     "data": {
      "text/plain": [
       "\"{'latitude': 39.291696, 'longitude': -76.62224}\""
      ]
     },
     "execution_count": 14,
     "metadata": {},
     "output_type": "execute_result"
    }
   ],
   "source": [
    "## examining a single value from the coordinates col\n",
    "coord = df.loc[0,\"coordinates\"]\n",
    "print(type(coord))\n",
    "coord"
   ]
  },
  {
   "cell_type": "markdown",
   "id": "8ea2af55-183a-4768-9fb8-9fb11283328a",
   "metadata": {},
   "source": [
    "- Notice that there are quotation marks around the entire dictionary! We actually have a STRING that LOOKS like a dictionary.\n",
    "- The entire coordinates column is dictionaries-turned-strings that must be converted back to dictionaries.\n"
   ]
  },
  {
   "cell_type": "markdown",
   "id": "9e6a4f15-96a8-4727-b584-11308e1ab29e",
   "metadata": {},
   "source": [
    "- You may be wondering, how did this even happen??\n",
    "   - When a column that contains an iterable (list, dictionary, etc.) is saved as a csv, the iterable is forcibly converted to a string for compatibility.\n",
    "- If we had instead saved our data as a .json file, this would not have happened (but our data file would also be much larger.)\n"
   ]
  },
  {
   "cell_type": "markdown",
   "id": "32f4e431-5f44-4324-963b-181497917231",
   "metadata": {},
   "source": [
    "**So how can we fix string-dictionary columns?**"
   ]
  },
  {
   "cell_type": "markdown",
   "id": "f00d06fc-4686-4714-ab92-7bd87b95d362",
   "metadata": {},
   "source": [
    "- Remember that JSON files are really just dictionaries or lists of dictionaries stored in a text file.\n",
    "   - Just like we have the **\"json.load** function to load the contents of a json FILE as a dictionary/list, we also have a **\"json.loads\"** (the **s** is for \"strings\"), which will load a JSON-compatible STRING into a dictionary/list of dictionaries.\n",
    "- So, we can fix our coordinates column with some clever usage of the **json.loads** function.\n"
   ]
  },
  {
   "cell_type": "code",
   "execution_count": 16,
   "id": "30b3f082-1ff3-4c5e-ad35-4bd830344a84",
   "metadata": {},
   "outputs": [
    {
     "ename": "JSONDecodeError",
     "evalue": "Expecting property name enclosed in double quotes: line 1 column 2 (char 1)",
     "output_type": "error",
     "traceback": [
      "\u001b[1;31m---------------------------------------------------------------------------\u001b[0m",
      "\u001b[1;31mJSONDecodeError\u001b[0m                           Traceback (most recent call last)",
      "Cell \u001b[1;32mIn[16], line 2\u001b[0m\n\u001b[0;32m      1\u001b[0m \u001b[38;5;28;01mimport\u001b[39;00m \u001b[38;5;21;01mjson\u001b[39;00m\n\u001b[1;32m----> 2\u001b[0m \u001b[43mjson\u001b[49m\u001b[38;5;241;43m.\u001b[39;49m\u001b[43mloads\u001b[49m\u001b[43m(\u001b[49m\u001b[43mcoord\u001b[49m\u001b[43m)\u001b[49m\n",
      "File \u001b[1;32m~\\AppData\\Local\\anaconda3\\envs\\dojo-env\\lib\\json\\__init__.py:346\u001b[0m, in \u001b[0;36mloads\u001b[1;34m(s, cls, object_hook, parse_float, parse_int, parse_constant, object_pairs_hook, **kw)\u001b[0m\n\u001b[0;32m    341\u001b[0m     s \u001b[38;5;241m=\u001b[39m s\u001b[38;5;241m.\u001b[39mdecode(detect_encoding(s), \u001b[38;5;124m'\u001b[39m\u001b[38;5;124msurrogatepass\u001b[39m\u001b[38;5;124m'\u001b[39m)\n\u001b[0;32m    343\u001b[0m \u001b[38;5;28;01mif\u001b[39;00m (\u001b[38;5;28mcls\u001b[39m \u001b[38;5;129;01mis\u001b[39;00m \u001b[38;5;28;01mNone\u001b[39;00m \u001b[38;5;129;01mand\u001b[39;00m object_hook \u001b[38;5;129;01mis\u001b[39;00m \u001b[38;5;28;01mNone\u001b[39;00m \u001b[38;5;129;01mand\u001b[39;00m\n\u001b[0;32m    344\u001b[0m         parse_int \u001b[38;5;129;01mis\u001b[39;00m \u001b[38;5;28;01mNone\u001b[39;00m \u001b[38;5;129;01mand\u001b[39;00m parse_float \u001b[38;5;129;01mis\u001b[39;00m \u001b[38;5;28;01mNone\u001b[39;00m \u001b[38;5;129;01mand\u001b[39;00m\n\u001b[0;32m    345\u001b[0m         parse_constant \u001b[38;5;129;01mis\u001b[39;00m \u001b[38;5;28;01mNone\u001b[39;00m \u001b[38;5;129;01mand\u001b[39;00m object_pairs_hook \u001b[38;5;129;01mis\u001b[39;00m \u001b[38;5;28;01mNone\u001b[39;00m \u001b[38;5;129;01mand\u001b[39;00m \u001b[38;5;129;01mnot\u001b[39;00m kw):\n\u001b[1;32m--> 346\u001b[0m     \u001b[38;5;28;01mreturn\u001b[39;00m \u001b[43m_default_decoder\u001b[49m\u001b[38;5;241;43m.\u001b[39;49m\u001b[43mdecode\u001b[49m\u001b[43m(\u001b[49m\u001b[43ms\u001b[49m\u001b[43m)\u001b[49m\n\u001b[0;32m    347\u001b[0m \u001b[38;5;28;01mif\u001b[39;00m \u001b[38;5;28mcls\u001b[39m \u001b[38;5;129;01mis\u001b[39;00m \u001b[38;5;28;01mNone\u001b[39;00m:\n\u001b[0;32m    348\u001b[0m     \u001b[38;5;28mcls\u001b[39m \u001b[38;5;241m=\u001b[39m JSONDecoder\n",
      "File \u001b[1;32m~\\AppData\\Local\\anaconda3\\envs\\dojo-env\\lib\\json\\decoder.py:337\u001b[0m, in \u001b[0;36mJSONDecoder.decode\u001b[1;34m(self, s, _w)\u001b[0m\n\u001b[0;32m    332\u001b[0m \u001b[38;5;28;01mdef\u001b[39;00m \u001b[38;5;21mdecode\u001b[39m(\u001b[38;5;28mself\u001b[39m, s, _w\u001b[38;5;241m=\u001b[39mWHITESPACE\u001b[38;5;241m.\u001b[39mmatch):\n\u001b[0;32m    333\u001b[0m \u001b[38;5;250m    \u001b[39m\u001b[38;5;124;03m\"\"\"Return the Python representation of ``s`` (a ``str`` instance\u001b[39;00m\n\u001b[0;32m    334\u001b[0m \u001b[38;5;124;03m    containing a JSON document).\u001b[39;00m\n\u001b[0;32m    335\u001b[0m \n\u001b[0;32m    336\u001b[0m \u001b[38;5;124;03m    \"\"\"\u001b[39;00m\n\u001b[1;32m--> 337\u001b[0m     obj, end \u001b[38;5;241m=\u001b[39m \u001b[38;5;28;43mself\u001b[39;49m\u001b[38;5;241;43m.\u001b[39;49m\u001b[43mraw_decode\u001b[49m\u001b[43m(\u001b[49m\u001b[43ms\u001b[49m\u001b[43m,\u001b[49m\u001b[43m \u001b[49m\u001b[43midx\u001b[49m\u001b[38;5;241;43m=\u001b[39;49m\u001b[43m_w\u001b[49m\u001b[43m(\u001b[49m\u001b[43ms\u001b[49m\u001b[43m,\u001b[49m\u001b[43m \u001b[49m\u001b[38;5;241;43m0\u001b[39;49m\u001b[43m)\u001b[49m\u001b[38;5;241;43m.\u001b[39;49m\u001b[43mend\u001b[49m\u001b[43m(\u001b[49m\u001b[43m)\u001b[49m\u001b[43m)\u001b[49m\n\u001b[0;32m    338\u001b[0m     end \u001b[38;5;241m=\u001b[39m _w(s, end)\u001b[38;5;241m.\u001b[39mend()\n\u001b[0;32m    339\u001b[0m     \u001b[38;5;28;01mif\u001b[39;00m end \u001b[38;5;241m!=\u001b[39m \u001b[38;5;28mlen\u001b[39m(s):\n",
      "File \u001b[1;32m~\\AppData\\Local\\anaconda3\\envs\\dojo-env\\lib\\json\\decoder.py:353\u001b[0m, in \u001b[0;36mJSONDecoder.raw_decode\u001b[1;34m(self, s, idx)\u001b[0m\n\u001b[0;32m    344\u001b[0m \u001b[38;5;250m\u001b[39m\u001b[38;5;124;03m\"\"\"Decode a JSON document from ``s`` (a ``str`` beginning with\u001b[39;00m\n\u001b[0;32m    345\u001b[0m \u001b[38;5;124;03ma JSON document) and return a 2-tuple of the Python\u001b[39;00m\n\u001b[0;32m    346\u001b[0m \u001b[38;5;124;03mrepresentation and the index in ``s`` where the document ended.\u001b[39;00m\n\u001b[1;32m   (...)\u001b[0m\n\u001b[0;32m    350\u001b[0m \n\u001b[0;32m    351\u001b[0m \u001b[38;5;124;03m\"\"\"\u001b[39;00m\n\u001b[0;32m    352\u001b[0m \u001b[38;5;28;01mtry\u001b[39;00m:\n\u001b[1;32m--> 353\u001b[0m     obj, end \u001b[38;5;241m=\u001b[39m \u001b[38;5;28;43mself\u001b[39;49m\u001b[38;5;241;43m.\u001b[39;49m\u001b[43mscan_once\u001b[49m\u001b[43m(\u001b[49m\u001b[43ms\u001b[49m\u001b[43m,\u001b[49m\u001b[43m \u001b[49m\u001b[43midx\u001b[49m\u001b[43m)\u001b[49m\n\u001b[0;32m    354\u001b[0m \u001b[38;5;28;01mexcept\u001b[39;00m \u001b[38;5;167;01mStopIteration\u001b[39;00m \u001b[38;5;28;01mas\u001b[39;00m err:\n\u001b[0;32m    355\u001b[0m     \u001b[38;5;28;01mraise\u001b[39;00m JSONDecodeError(\u001b[38;5;124m\"\u001b[39m\u001b[38;5;124mExpecting value\u001b[39m\u001b[38;5;124m\"\u001b[39m, s, err\u001b[38;5;241m.\u001b[39mvalue) \u001b[38;5;28;01mfrom\u001b[39;00m \u001b[38;5;28;01mNone\u001b[39;00m\n",
      "\u001b[1;31mJSONDecodeError\u001b[0m: Expecting property name enclosed in double quotes: line 1 column 2 (char 1)"
     ]
    }
   ],
   "source": [
    "import json\n",
    "json.loads(coord)"
   ]
  },
  {
   "cell_type": "markdown",
   "id": "20431f98-e5b0-4f5e-a8cf-3bae15631806",
   "metadata": {},
   "source": [
    "According to the error message, it looks like json.loads is not happy that these string-dictionaries use single quotes instead of double quotes.\n",
    "\n",
    "If we look again at our test_coord we can see that the string uses single quotes for all of the key names, such as 'latitude'"
   ]
  },
  {
   "cell_type": "code",
   "execution_count": 17,
   "id": "2e453088-cc0a-44b0-bbc7-5d34bbc63a16",
   "metadata": {},
   "outputs": [
    {
     "data": {
      "text/plain": [
       "\"{'latitude': 39.291696, 'longitude': -76.62224}\""
      ]
     },
     "execution_count": 17,
     "metadata": {},
     "output_type": "execute_result"
    }
   ],
   "source": [
    "coord"
   ]
  },
  {
   "cell_type": "markdown",
   "id": "f12a3ab9-a1f0-4602-907e-1cff0dacc4be",
   "metadata": {},
   "source": [
    "To fix this, we can replace our single quotes with double quotes before we use json.loads.\n",
    "For our single test string, we can use the **.replace** method:"
   ]
  },
  {
   "cell_type": "code",
   "execution_count": 19,
   "id": "edd0b42e-91f2-4b7e-a56e-daa4cc3a55c0",
   "metadata": {},
   "outputs": [
    {
     "data": {
      "text/plain": [
       "'{\"latitude\": 39.291696, \"longitude\": -76.62224}'"
      ]
     },
     "execution_count": 19,
     "metadata": {},
     "output_type": "execute_result"
    }
   ],
   "source": [
    "coord = coord.replace(\"'\",'\"')\n",
    "coord"
   ]
  },
  {
   "cell_type": "markdown",
   "id": "3f8999a3-8608-48ac-8206-40e632205b7a",
   "metadata": {},
   "source": [
    "Now that we have double quotes inside our string, we can use json.loads"
   ]
  },
  {
   "cell_type": "code",
   "execution_count": 20,
   "id": "e96812af-4f5c-483a-b14f-7f3c0bdb636c",
   "metadata": {},
   "outputs": [
    {
     "name": "stdout",
     "output_type": "stream",
     "text": [
      "<class 'dict'>\n"
     ]
    },
    {
     "data": {
      "text/plain": [
       "{'latitude': 39.291696, 'longitude': -76.62224}"
      ]
     },
     "execution_count": 20,
     "metadata": {},
     "output_type": "execute_result"
    }
   ],
   "source": [
    "## now we can use json.loads\n",
    "fixed_coord = json.loads(coord)\n",
    "print(type(fixed_coord))\n",
    "fixed_coord"
   ]
  },
  {
   "cell_type": "markdown",
   "id": "3822808a-f561-42c3-b190-cadae28e2bed",
   "metadata": {},
   "source": [
    "- We can apply this transformation to the entire column by combining the following:\n",
    "  - Using **.str.replace** to replace single quotes.\n",
    "  - Using **.apply** with **json.loads** to convert all rows simultaneously.\n"
   ]
  },
  {
   "cell_type": "code",
   "execution_count": 21,
   "id": "6508329c-9675-42a3-8e36-a2bce796a604",
   "metadata": {},
   "outputs": [
    {
     "data": {
      "text/plain": [
       "0      {'latitude': 39.291696, 'longitude': -76.62224}\n",
       "1       {'latitude': 39.28214, 'longitude': -76.59162}\n",
       "2    {'latitude': 39.2870995, 'longitude': -76.6053...\n",
       "3     {'latitude': 39.27986, 'longitude': -76.5752399}\n",
       "4    {'latitude': 39.2958288, 'longitude': -76.6188...\n",
       "Name: coordinates, dtype: object"
      ]
     },
     "execution_count": 21,
     "metadata": {},
     "output_type": "execute_result"
    }
   ],
   "source": [
    "## use .str.replace to replace all single quotes\n",
    "df['coordinates'] = df['coordinates'].str.replace(\"'\",'\"')\n",
    "## Apply the json.loads to the full column\n",
    "df['coordinates'] = df['coordinates'].apply(json.loads)\n",
    "df['coordinates'].head()"
   ]
  },
  {
   "cell_type": "code",
   "execution_count": 22,
   "id": "fc6251bc-01c4-4c24-bb7d-955020a53993",
   "metadata": {},
   "outputs": [
    {
     "name": "stdout",
     "output_type": "stream",
     "text": [
      "<class 'dict'>\n"
     ]
    },
    {
     "data": {
      "text/plain": [
       "{'latitude': 39.291696, 'longitude': -76.62224}"
      ]
     },
     "execution_count": 22,
     "metadata": {},
     "output_type": "execute_result"
    }
   ],
   "source": [
    "## check a single value after transformation\n",
    "test_coord = df.loc[0, 'coordinates']\n",
    "print(type(test_coord))\n",
    "test_coord"
   ]
  },
  {
   "cell_type": "markdown",
   "id": "4240d3ec-4b31-42b1-9710-b97c1cccffbf",
   "metadata": {},
   "source": [
    "### **4. Unpack a column of dictionaries into separate columns**"
   ]
  },
  {
   "cell_type": "markdown",
   "id": "4e24bda9-475c-42f3-8d80-cc7c86bb72c1",
   "metadata": {},
   "source": [
    "- We now want to convert the single \"coordinates\" column into 2 separate columns, \"latitude\" and \"longitude.\"\n",
    "  - To do so, we will use .apply with the pd.Series function.\n",
    "- If we use the pandas **pd.Series** function on our column of dictionaries, it will automatically convert each key to a new column!\n"
   ]
  },
  {
   "cell_type": "code",
   "execution_count": 23,
   "id": "88edf9dd-eaf0-4c68-b1d4-d1832dd8a8cd",
   "metadata": {},
   "outputs": [
    {
     "data": {
      "text/html": [
       "<div>\n",
       "<style scoped>\n",
       "    .dataframe tbody tr th:only-of-type {\n",
       "        vertical-align: middle;\n",
       "    }\n",
       "\n",
       "    .dataframe tbody tr th {\n",
       "        vertical-align: top;\n",
       "    }\n",
       "\n",
       "    .dataframe thead th {\n",
       "        text-align: right;\n",
       "    }\n",
       "</style>\n",
       "<table border=\"1\" class=\"dataframe\">\n",
       "  <thead>\n",
       "    <tr style=\"text-align: right;\">\n",
       "      <th></th>\n",
       "      <th>latitude</th>\n",
       "      <th>longitude</th>\n",
       "    </tr>\n",
       "  </thead>\n",
       "  <tbody>\n",
       "    <tr>\n",
       "      <th>0</th>\n",
       "      <td>39.291696</td>\n",
       "      <td>-76.622240</td>\n",
       "    </tr>\n",
       "    <tr>\n",
       "      <th>1</th>\n",
       "      <td>39.282140</td>\n",
       "      <td>-76.591620</td>\n",
       "    </tr>\n",
       "    <tr>\n",
       "      <th>2</th>\n",
       "      <td>39.287099</td>\n",
       "      <td>-76.605366</td>\n",
       "    </tr>\n",
       "    <tr>\n",
       "      <th>3</th>\n",
       "      <td>39.279860</td>\n",
       "      <td>-76.575240</td>\n",
       "    </tr>\n",
       "    <tr>\n",
       "      <th>4</th>\n",
       "      <td>39.295829</td>\n",
       "      <td>-76.618891</td>\n",
       "    </tr>\n",
       "    <tr>\n",
       "      <th>...</th>\n",
       "      <td>...</td>\n",
       "      <td>...</td>\n",
       "    </tr>\n",
       "    <tr>\n",
       "      <th>424</th>\n",
       "      <td>39.330889</td>\n",
       "      <td>-76.634097</td>\n",
       "    </tr>\n",
       "    <tr>\n",
       "      <th>425</th>\n",
       "      <td>39.316500</td>\n",
       "      <td>-76.615560</td>\n",
       "    </tr>\n",
       "    <tr>\n",
       "      <th>426</th>\n",
       "      <td>39.281747</td>\n",
       "      <td>-76.581631</td>\n",
       "    </tr>\n",
       "    <tr>\n",
       "      <th>427</th>\n",
       "      <td>39.330860</td>\n",
       "      <td>-76.631610</td>\n",
       "    </tr>\n",
       "    <tr>\n",
       "      <th>428</th>\n",
       "      <td>39.330840</td>\n",
       "      <td>-76.633930</td>\n",
       "    </tr>\n",
       "  </tbody>\n",
       "</table>\n",
       "<p>429 rows × 2 columns</p>\n",
       "</div>"
      ],
      "text/plain": [
       "      latitude  longitude\n",
       "0    39.291696 -76.622240\n",
       "1    39.282140 -76.591620\n",
       "2    39.287099 -76.605366\n",
       "3    39.279860 -76.575240\n",
       "4    39.295829 -76.618891\n",
       "..         ...        ...\n",
       "424  39.330889 -76.634097\n",
       "425  39.316500 -76.615560\n",
       "426  39.281747 -76.581631\n",
       "427  39.330860 -76.631610\n",
       "428  39.330840 -76.633930\n",
       "\n",
       "[429 rows x 2 columns]"
      ]
     },
     "execution_count": 23,
     "metadata": {},
     "output_type": "execute_result"
    }
   ],
   "source": [
    "lat_long = df['coordinates'].apply(pd.Series)\n",
    "lat_long"
   ]
  },
  {
   "cell_type": "markdown",
   "id": "f285a5ee-67b3-4862-b0f2-c4a6ecc7e532",
   "metadata": {},
   "source": [
    "Now, we concatenate these 2 new columns to our original dataframe AND drop the original column.\n",
    "- We will use pd.concat with axis=1 to concatenate the two dataframes side by side.\n",
    "   - **pd.concat([df1,df2], axis=1)**\n"
   ]
  },
  {
   "cell_type": "code",
   "execution_count": 24,
   "id": "9722e3d7-b646-4cad-b116-79f9f82d7531",
   "metadata": {},
   "outputs": [
    {
     "data": {
      "text/html": [
       "<div>\n",
       "<style scoped>\n",
       "    .dataframe tbody tr th:only-of-type {\n",
       "        vertical-align: middle;\n",
       "    }\n",
       "\n",
       "    .dataframe tbody tr th {\n",
       "        vertical-align: top;\n",
       "    }\n",
       "\n",
       "    .dataframe thead th {\n",
       "        text-align: right;\n",
       "    }\n",
       "</style>\n",
       "<table border=\"1\" class=\"dataframe\">\n",
       "  <thead>\n",
       "    <tr style=\"text-align: right;\">\n",
       "      <th></th>\n",
       "      <th>id</th>\n",
       "      <th>alias</th>\n",
       "      <th>name</th>\n",
       "      <th>image_url</th>\n",
       "      <th>is_closed</th>\n",
       "      <th>url</th>\n",
       "      <th>review_count</th>\n",
       "      <th>categories</th>\n",
       "      <th>rating</th>\n",
       "      <th>coordinates</th>\n",
       "      <th>transactions</th>\n",
       "      <th>price</th>\n",
       "      <th>location</th>\n",
       "      <th>distance</th>\n",
       "      <th>area_code</th>\n",
       "      <th>phone_number</th>\n",
       "      <th>latitude</th>\n",
       "      <th>longitude</th>\n",
       "    </tr>\n",
       "  </thead>\n",
       "  <tbody>\n",
       "    <tr>\n",
       "      <th>0</th>\n",
       "      <td>D9A33FM394q99o4QtK5YwA</td>\n",
       "      <td>faidleys-seafood-baltimore-3</td>\n",
       "      <td>Faidleys Seafood</td>\n",
       "      <td>https://s3-media3.fl.yelpcdn.com/bphoto/OTjVDC...</td>\n",
       "      <td>False</td>\n",
       "      <td>https://www.yelp.com/biz/faidleys-seafood-balt...</td>\n",
       "      <td>1181</td>\n",
       "      <td>[{'alias': 'seafood', 'title': 'Seafood'}, {'a...</td>\n",
       "      <td>4.0</td>\n",
       "      <td>{'latitude': 39.291696, 'longitude': -76.62224}</td>\n",
       "      <td>['delivery']</td>\n",
       "      <td>$$</td>\n",
       "      <td>{'address1': '203 N Paca St', 'address2': '', ...</td>\n",
       "      <td>1349.560720</td>\n",
       "      <td>410</td>\n",
       "      <td>727-4898</td>\n",
       "      <td>39.291696</td>\n",
       "      <td>-76.62224</td>\n",
       "    </tr>\n",
       "    <tr>\n",
       "      <th>1</th>\n",
       "      <td>ieS_5zqxDHcWMCm8BKUYbg</td>\n",
       "      <td>thames-street-oyster-house-baltimore</td>\n",
       "      <td>Thames Street Oyster House</td>\n",
       "      <td>https://s3-media1.fl.yelpcdn.com/bphoto/9hGjo5...</td>\n",
       "      <td>False</td>\n",
       "      <td>https://www.yelp.com/biz/thames-street-oyster-...</td>\n",
       "      <td>2726</td>\n",
       "      <td>[{'alias': 'seafood', 'title': 'Seafood'}, {'a...</td>\n",
       "      <td>4.5</td>\n",
       "      <td>{'latitude': 39.28214, 'longitude': -76.59162}</td>\n",
       "      <td>['delivery']</td>\n",
       "      <td>$$$</td>\n",
       "      <td>{'address1': '1728 Thames St', 'address2': '',...</td>\n",
       "      <td>2090.712792</td>\n",
       "      <td>443</td>\n",
       "      <td>449-7726</td>\n",
       "      <td>39.282140</td>\n",
       "      <td>-76.59162</td>\n",
       "    </tr>\n",
       "  </tbody>\n",
       "</table>\n",
       "</div>"
      ],
      "text/plain": [
       "                       id                                 alias  \\\n",
       "0  D9A33FM394q99o4QtK5YwA          faidleys-seafood-baltimore-3   \n",
       "1  ieS_5zqxDHcWMCm8BKUYbg  thames-street-oyster-house-baltimore   \n",
       "\n",
       "                         name  \\\n",
       "0            Faidleys Seafood   \n",
       "1  Thames Street Oyster House   \n",
       "\n",
       "                                           image_url  is_closed  \\\n",
       "0  https://s3-media3.fl.yelpcdn.com/bphoto/OTjVDC...      False   \n",
       "1  https://s3-media1.fl.yelpcdn.com/bphoto/9hGjo5...      False   \n",
       "\n",
       "                                                 url  review_count  \\\n",
       "0  https://www.yelp.com/biz/faidleys-seafood-balt...          1181   \n",
       "1  https://www.yelp.com/biz/thames-street-oyster-...          2726   \n",
       "\n",
       "                                          categories  rating  \\\n",
       "0  [{'alias': 'seafood', 'title': 'Seafood'}, {'a...     4.0   \n",
       "1  [{'alias': 'seafood', 'title': 'Seafood'}, {'a...     4.5   \n",
       "\n",
       "                                       coordinates  transactions price  \\\n",
       "0  {'latitude': 39.291696, 'longitude': -76.62224}  ['delivery']    $$   \n",
       "1   {'latitude': 39.28214, 'longitude': -76.59162}  ['delivery']   $$$   \n",
       "\n",
       "                                            location     distance area_code  \\\n",
       "0  {'address1': '203 N Paca St', 'address2': '', ...  1349.560720       410   \n",
       "1  {'address1': '1728 Thames St', 'address2': '',...  2090.712792       443   \n",
       "\n",
       "  phone_number   latitude  longitude  \n",
       "0     727-4898  39.291696  -76.62224  \n",
       "1     449-7726  39.282140  -76.59162  "
      ]
     },
     "execution_count": 24,
     "metadata": {},
     "output_type": "execute_result"
    }
   ],
   "source": [
    "# concat long_lat with original dataframe\n",
    "df = pd.concat((df, lat_long), axis = 1)\n",
    "df.head(2)"
   ]
  },
  {
   "cell_type": "markdown",
   "id": "0584e878-c7dc-4c15-ac7f-289fe63c6926",
   "metadata": {},
   "source": [
    "You can now drop the original coordinates column."
   ]
  },
  {
   "cell_type": "code",
   "execution_count": 25,
   "id": "b1760913-9213-4177-9850-a9d11d44cd38",
   "metadata": {},
   "outputs": [],
   "source": [
    "df = df.drop(columns=['coordinates'])"
   ]
  },
  {
   "cell_type": "code",
   "execution_count": 26,
   "id": "8c18a496-6981-4836-be74-f0083ae82084",
   "metadata": {},
   "outputs": [
    {
     "data": {
      "text/html": [
       "<div>\n",
       "<style scoped>\n",
       "    .dataframe tbody tr th:only-of-type {\n",
       "        vertical-align: middle;\n",
       "    }\n",
       "\n",
       "    .dataframe tbody tr th {\n",
       "        vertical-align: top;\n",
       "    }\n",
       "\n",
       "    .dataframe thead th {\n",
       "        text-align: right;\n",
       "    }\n",
       "</style>\n",
       "<table border=\"1\" class=\"dataframe\">\n",
       "  <thead>\n",
       "    <tr style=\"text-align: right;\">\n",
       "      <th></th>\n",
       "      <th>id</th>\n",
       "      <th>alias</th>\n",
       "      <th>name</th>\n",
       "      <th>image_url</th>\n",
       "      <th>is_closed</th>\n",
       "      <th>url</th>\n",
       "      <th>review_count</th>\n",
       "      <th>categories</th>\n",
       "      <th>rating</th>\n",
       "      <th>transactions</th>\n",
       "      <th>price</th>\n",
       "      <th>location</th>\n",
       "      <th>distance</th>\n",
       "      <th>area_code</th>\n",
       "      <th>phone_number</th>\n",
       "      <th>latitude</th>\n",
       "      <th>longitude</th>\n",
       "    </tr>\n",
       "  </thead>\n",
       "  <tbody>\n",
       "    <tr>\n",
       "      <th>0</th>\n",
       "      <td>D9A33FM394q99o4QtK5YwA</td>\n",
       "      <td>faidleys-seafood-baltimore-3</td>\n",
       "      <td>Faidleys Seafood</td>\n",
       "      <td>https://s3-media3.fl.yelpcdn.com/bphoto/OTjVDC...</td>\n",
       "      <td>False</td>\n",
       "      <td>https://www.yelp.com/biz/faidleys-seafood-balt...</td>\n",
       "      <td>1181</td>\n",
       "      <td>[{'alias': 'seafood', 'title': 'Seafood'}, {'a...</td>\n",
       "      <td>4.0</td>\n",
       "      <td>['delivery']</td>\n",
       "      <td>$$</td>\n",
       "      <td>{'address1': '203 N Paca St', 'address2': '', ...</td>\n",
       "      <td>1349.560720</td>\n",
       "      <td>410</td>\n",
       "      <td>727-4898</td>\n",
       "      <td>39.291696</td>\n",
       "      <td>-76.622240</td>\n",
       "    </tr>\n",
       "    <tr>\n",
       "      <th>1</th>\n",
       "      <td>ieS_5zqxDHcWMCm8BKUYbg</td>\n",
       "      <td>thames-street-oyster-house-baltimore</td>\n",
       "      <td>Thames Street Oyster House</td>\n",
       "      <td>https://s3-media1.fl.yelpcdn.com/bphoto/9hGjo5...</td>\n",
       "      <td>False</td>\n",
       "      <td>https://www.yelp.com/biz/thames-street-oyster-...</td>\n",
       "      <td>2726</td>\n",
       "      <td>[{'alias': 'seafood', 'title': 'Seafood'}, {'a...</td>\n",
       "      <td>4.5</td>\n",
       "      <td>['delivery']</td>\n",
       "      <td>$$$</td>\n",
       "      <td>{'address1': '1728 Thames St', 'address2': '',...</td>\n",
       "      <td>2090.712792</td>\n",
       "      <td>443</td>\n",
       "      <td>449-7726</td>\n",
       "      <td>39.282140</td>\n",
       "      <td>-76.591620</td>\n",
       "    </tr>\n",
       "    <tr>\n",
       "      <th>2</th>\n",
       "      <td>u65W69AhbjUlvJJBkEhGNQ</td>\n",
       "      <td>miss-shirleys-cafe-baltimore-9</td>\n",
       "      <td>Miss Shirley's Cafe</td>\n",
       "      <td>https://s3-media4.fl.yelpcdn.com/bphoto/9FsOyV...</td>\n",
       "      <td>False</td>\n",
       "      <td>https://www.yelp.com/biz/miss-shirleys-cafe-ba...</td>\n",
       "      <td>2918</td>\n",
       "      <td>[{'alias': 'breakfast_brunch', 'title': 'Break...</td>\n",
       "      <td>4.0</td>\n",
       "      <td>['pickup', 'delivery']</td>\n",
       "      <td>$$</td>\n",
       "      <td>{'address1': '750 E Pratt St', 'address2': '',...</td>\n",
       "      <td>1028.736468</td>\n",
       "      <td>410</td>\n",
       "      <td>528-5373</td>\n",
       "      <td>39.287099</td>\n",
       "      <td>-76.605366</td>\n",
       "    </tr>\n",
       "    <tr>\n",
       "      <th>3</th>\n",
       "      <td>6am8TZAFnvND52MOz-Yctg</td>\n",
       "      <td>mamas-on-the-half-shell-baltimore</td>\n",
       "      <td>Mama's On The Half Shell</td>\n",
       "      <td>https://s3-media2.fl.yelpcdn.com/bphoto/HWY8OF...</td>\n",
       "      <td>False</td>\n",
       "      <td>https://www.yelp.com/biz/mamas-on-the-half-she...</td>\n",
       "      <td>1277</td>\n",
       "      <td>[{'alias': 'bars', 'title': 'Bars'}, {'alias':...</td>\n",
       "      <td>4.0</td>\n",
       "      <td>['pickup', 'delivery']</td>\n",
       "      <td>$$</td>\n",
       "      <td>{'address1': '2901 Odonnell St', 'address2': '...</td>\n",
       "      <td>3328.825798</td>\n",
       "      <td>410</td>\n",
       "      <td>276-3160</td>\n",
       "      <td>39.279860</td>\n",
       "      <td>-76.575240</td>\n",
       "    </tr>\n",
       "    <tr>\n",
       "      <th>4</th>\n",
       "      <td>p_XPpHiZbdOccx2jFUgZJA</td>\n",
       "      <td>the-local-oyster-baltimore</td>\n",
       "      <td>The Local Oyster</td>\n",
       "      <td>https://s3-media3.fl.yelpcdn.com/bphoto/u_33ay...</td>\n",
       "      <td>False</td>\n",
       "      <td>https://www.yelp.com/biz/the-local-oyster-balt...</td>\n",
       "      <td>217</td>\n",
       "      <td>[{'alias': 'seafood', 'title': 'Seafood'}, {'a...</td>\n",
       "      <td>4.0</td>\n",
       "      <td>['delivery']</td>\n",
       "      <td>$$</td>\n",
       "      <td>{'address1': '520 Park Ave', 'address2': None,...</td>\n",
       "      <td>966.729941</td>\n",
       "      <td>844</td>\n",
       "      <td>748-2537</td>\n",
       "      <td>39.295829</td>\n",
       "      <td>-76.618891</td>\n",
       "    </tr>\n",
       "  </tbody>\n",
       "</table>\n",
       "</div>"
      ],
      "text/plain": [
       "                       id                                 alias  \\\n",
       "0  D9A33FM394q99o4QtK5YwA          faidleys-seafood-baltimore-3   \n",
       "1  ieS_5zqxDHcWMCm8BKUYbg  thames-street-oyster-house-baltimore   \n",
       "2  u65W69AhbjUlvJJBkEhGNQ        miss-shirleys-cafe-baltimore-9   \n",
       "3  6am8TZAFnvND52MOz-Yctg     mamas-on-the-half-shell-baltimore   \n",
       "4  p_XPpHiZbdOccx2jFUgZJA            the-local-oyster-baltimore   \n",
       "\n",
       "                         name  \\\n",
       "0            Faidleys Seafood   \n",
       "1  Thames Street Oyster House   \n",
       "2         Miss Shirley's Cafe   \n",
       "3    Mama's On The Half Shell   \n",
       "4            The Local Oyster   \n",
       "\n",
       "                                           image_url  is_closed  \\\n",
       "0  https://s3-media3.fl.yelpcdn.com/bphoto/OTjVDC...      False   \n",
       "1  https://s3-media1.fl.yelpcdn.com/bphoto/9hGjo5...      False   \n",
       "2  https://s3-media4.fl.yelpcdn.com/bphoto/9FsOyV...      False   \n",
       "3  https://s3-media2.fl.yelpcdn.com/bphoto/HWY8OF...      False   \n",
       "4  https://s3-media3.fl.yelpcdn.com/bphoto/u_33ay...      False   \n",
       "\n",
       "                                                 url  review_count  \\\n",
       "0  https://www.yelp.com/biz/faidleys-seafood-balt...          1181   \n",
       "1  https://www.yelp.com/biz/thames-street-oyster-...          2726   \n",
       "2  https://www.yelp.com/biz/miss-shirleys-cafe-ba...          2918   \n",
       "3  https://www.yelp.com/biz/mamas-on-the-half-she...          1277   \n",
       "4  https://www.yelp.com/biz/the-local-oyster-balt...           217   \n",
       "\n",
       "                                          categories  rating  \\\n",
       "0  [{'alias': 'seafood', 'title': 'Seafood'}, {'a...     4.0   \n",
       "1  [{'alias': 'seafood', 'title': 'Seafood'}, {'a...     4.5   \n",
       "2  [{'alias': 'breakfast_brunch', 'title': 'Break...     4.0   \n",
       "3  [{'alias': 'bars', 'title': 'Bars'}, {'alias':...     4.0   \n",
       "4  [{'alias': 'seafood', 'title': 'Seafood'}, {'a...     4.0   \n",
       "\n",
       "             transactions price  \\\n",
       "0            ['delivery']    $$   \n",
       "1            ['delivery']   $$$   \n",
       "2  ['pickup', 'delivery']    $$   \n",
       "3  ['pickup', 'delivery']    $$   \n",
       "4            ['delivery']    $$   \n",
       "\n",
       "                                            location     distance area_code  \\\n",
       "0  {'address1': '203 N Paca St', 'address2': '', ...  1349.560720       410   \n",
       "1  {'address1': '1728 Thames St', 'address2': '',...  2090.712792       443   \n",
       "2  {'address1': '750 E Pratt St', 'address2': '',...  1028.736468       410   \n",
       "3  {'address1': '2901 Odonnell St', 'address2': '...  3328.825798       410   \n",
       "4  {'address1': '520 Park Ave', 'address2': None,...   966.729941       844   \n",
       "\n",
       "  phone_number   latitude  longitude  \n",
       "0     727-4898  39.291696 -76.622240  \n",
       "1     449-7726  39.282140 -76.591620  \n",
       "2     528-5373  39.287099 -76.605366  \n",
       "3     276-3160  39.279860 -76.575240  \n",
       "4     748-2537  39.295829 -76.618891  "
      ]
     },
     "execution_count": 26,
     "metadata": {},
     "output_type": "execute_result"
    }
   ],
   "source": [
    "df.head()"
   ]
  },
  {
   "cell_type": "markdown",
   "id": "50fc81ee-6444-44bc-9276-4fd268233223",
   "metadata": {},
   "source": [
    "### **5. Convert a column that contains lists (that were converted to strings), back to lists.**"
   ]
  },
  {
   "cell_type": "markdown",
   "id": "d5334abd-92df-4cb7-808a-f0c85883a7d5",
   "metadata": {},
   "source": [
    "- We have the same problem that we had with csv-saved dictionaries with our columns that are filled with lists."
   ]
  },
  {
   "cell_type": "markdown",
   "id": "da1b99b3-561a-4533-82a9-de785a050ef8",
   "metadata": {},
   "source": [
    "**Getting All Unique Options (Columns to Make)**\n",
    "- Just like our coordinates column contained strings that looked like dictionaries, our transactions column contains strings that look like lists.\n",
    "   - We can apply the same approach using json.loads to first convert this column back to actual lists.\n",
    "   - The only difference is that we do not want to replace our original string version of the column.\n"
   ]
  },
  {
   "cell_type": "code",
   "execution_count": 27,
   "id": "659d27f9-a8b2-4745-acf4-f875a5966068",
   "metadata": {},
   "outputs": [
    {
     "data": {
      "text/plain": [
       "\"['pickup', 'delivery']\""
      ]
     },
     "execution_count": 27,
     "metadata": {},
     "output_type": "execute_result"
    }
   ],
   "source": [
    "## showing the lists are really strings\n",
    "df.loc[2,'transactions']"
   ]
  },
  {
   "cell_type": "markdown",
   "id": "28e365e6-8e33-48ce-9ad8-a23dcd61aa63",
   "metadata": {},
   "source": [
    "- Notice that double quotes surround the entire list.\n",
    "- Also, notice that within the list, single quotes are used. \n",
    "- We again will have the issue of the single quotes, so we will replace those with double quotes.\n"
   ]
  },
  {
   "cell_type": "code",
   "execution_count": 28,
   "id": "8ecc28d9-7925-4884-8165-2ef8ead39343",
   "metadata": {},
   "outputs": [],
   "source": [
    "# Create a new column where the single quotes are replaced by double quotes\n",
    "df['transactions_split'] = df['transactions'].str.replace(\"'\",'\"')"
   ]
  },
  {
   "cell_type": "markdown",
   "id": "3a15cd3f-771e-455c-b739-41b6d0f34cd5",
   "metadata": {},
   "source": [
    "Now, apply **json.loads** (load \"s\" for strings), and check the result."
   ]
  },
  {
   "cell_type": "code",
   "execution_count": 29,
   "id": "a924e260-167c-4500-8aad-14d896c775f0",
   "metadata": {},
   "outputs": [
    {
     "data": {
      "text/plain": [
       "0            [delivery]\n",
       "1            [delivery]\n",
       "2    [pickup, delivery]\n",
       "3    [pickup, delivery]\n",
       "4            [delivery]\n",
       "Name: transactions_split, dtype: object"
      ]
     },
     "execution_count": 29,
     "metadata": {},
     "output_type": "execute_result"
    }
   ],
   "source": [
    "# Apply json.loads to entire column\n",
    "df['transactions_split'] = df['transactions_split'].apply(json.loads)\n",
    "# check results\n",
    "df['transactions_split'].head()"
   ]
  },
  {
   "cell_type": "markdown",
   "id": "664568be-f1eb-4307-82e9-60b732561485",
   "metadata": {},
   "source": [
    "### **6. Convert a column of lists into one-hot-encoded columns (a column for each item in the list)**"
   ]
  },
  {
   "cell_type": "code",
   "execution_count": 30,
   "id": "fc98b17f-7a1c-44d0-884b-2f044d1074d9",
   "metadata": {},
   "outputs": [
    {
     "data": {
      "text/plain": [
       "[delivery, pickup]                            119\n",
       "[pickup, delivery]                            107\n",
       "[delivery]                                    105\n",
       "[]                                             86\n",
       "[pickup]                                        6\n",
       "[pickup, delivery, restaurant_reservation]      2\n",
       "[delivery, pickup, restaurant_reservation]      2\n",
       "[restaurant_reservation]                        2\n",
       "Name: transactions_split, dtype: int64"
      ]
     },
     "execution_count": 30,
     "metadata": {},
     "output_type": "execute_result"
    }
   ],
   "source": [
    "df['transactions_split'].value_counts()"
   ]
  },
  {
   "cell_type": "markdown",
   "id": "a5e30d9a-d005-4675-adde-00a15812332d",
   "metadata": {},
   "source": [
    "In this case, each restaurant can only have up to 3 possible values in this column (deliver, pickup, or restaurant_reservation), but imagine if you had 10 options or more!  "
   ]
  },
  {
   "cell_type": "markdown",
   "id": "9fb2a4e5-43ce-48fd-84a8-eff286248e80",
   "metadata": {},
   "source": [
    "We need to apply a flexible approach that could work for any number of possible values.\n",
    "- To programmatically create each new column from all of the possible values in a list column:\n",
    "  - We first need to get a list of all of the unique options that appear in this column.\n",
    "  - We will then loop through these unique options and leverage **.str.contains** to create a new column for each. The end result will be a new column for each item in the list with a true or false for each, depending on if it applies to each restaurant. \n",
    "**Get a list of all options using df.explode**\n"
   ]
  },
  {
   "cell_type": "markdown",
   "id": "376bcf86-b001-4399-be0e-5ca92af5c395",
   "metadata": {},
   "source": [
    "Now that we have a column of actual lists, we can take advantage of the **df.explode** method to create a separate row for each value in the list column."
   ]
  },
  {
   "cell_type": "code",
   "execution_count": 31,
   "id": "ced5a6b2-3fa8-4e74-bf75-d47031d6ab92",
   "metadata": {},
   "outputs": [
    {
     "data": {
      "text/html": [
       "<div>\n",
       "<style scoped>\n",
       "    .dataframe tbody tr th:only-of-type {\n",
       "        vertical-align: middle;\n",
       "    }\n",
       "\n",
       "    .dataframe tbody tr th {\n",
       "        vertical-align: top;\n",
       "    }\n",
       "\n",
       "    .dataframe thead th {\n",
       "        text-align: right;\n",
       "    }\n",
       "</style>\n",
       "<table border=\"1\" class=\"dataframe\">\n",
       "  <thead>\n",
       "    <tr style=\"text-align: right;\">\n",
       "      <th></th>\n",
       "      <th>name</th>\n",
       "      <th>transactions</th>\n",
       "      <th>transactions_split</th>\n",
       "    </tr>\n",
       "  </thead>\n",
       "  <tbody>\n",
       "    <tr>\n",
       "      <th>0</th>\n",
       "      <td>Faidleys Seafood</td>\n",
       "      <td>['delivery']</td>\n",
       "      <td>delivery</td>\n",
       "    </tr>\n",
       "    <tr>\n",
       "      <th>1</th>\n",
       "      <td>Thames Street Oyster House</td>\n",
       "      <td>['delivery']</td>\n",
       "      <td>delivery</td>\n",
       "    </tr>\n",
       "    <tr>\n",
       "      <th>2</th>\n",
       "      <td>Miss Shirley's Cafe</td>\n",
       "      <td>['pickup', 'delivery']</td>\n",
       "      <td>pickup</td>\n",
       "    </tr>\n",
       "    <tr>\n",
       "      <th>2</th>\n",
       "      <td>Miss Shirley's Cafe</td>\n",
       "      <td>['pickup', 'delivery']</td>\n",
       "      <td>delivery</td>\n",
       "    </tr>\n",
       "    <tr>\n",
       "      <th>3</th>\n",
       "      <td>Mama's On The Half Shell</td>\n",
       "      <td>['pickup', 'delivery']</td>\n",
       "      <td>pickup</td>\n",
       "    </tr>\n",
       "  </tbody>\n",
       "</table>\n",
       "</div>"
      ],
      "text/plain": [
       "                         name            transactions transactions_split\n",
       "0            Faidleys Seafood            ['delivery']           delivery\n",
       "1  Thames Street Oyster House            ['delivery']           delivery\n",
       "2         Miss Shirley's Cafe  ['pickup', 'delivery']             pickup\n",
       "2         Miss Shirley's Cafe  ['pickup', 'delivery']           delivery\n",
       "3    Mama's On The Half Shell  ['pickup', 'delivery']             pickup"
      ]
     },
     "execution_count": 31,
     "metadata": {},
     "output_type": "execute_result"
    }
   ],
   "source": [
    "## exploding the column of lists\n",
    "exploded = df.explode('transactions_split')\n",
    "exploded[['name','transactions','transactions_split']].head(5)"
   ]
  },
  {
   "cell_type": "markdown",
   "id": "feb1dcab-37ed-4435-bb77-df024a6a6b4f",
   "metadata": {},
   "source": [
    "Notice how there are now **TWO entries for Miss Shirley's cafe**. One for **pickup** and one for **delivery**.   We don't really want multiple entries for the same name, but this is **just a temporary step** that allows us to have every possible item from the transactions list separated out in the transactions_split column.  \n",
    "\n",
    "Now we will take the **.unique** values from this exploded column as our list of columns to create from our original non-exploded dataframe.\n"
   ]
  },
  {
   "cell_type": "markdown",
   "id": "53d07daf-b66d-4be8-9a53-554c8fb17370",
   "metadata": {},
   "source": [
    "Importantly, we **do not want to save NaN to our list**, so we can use **.dropna()** right before our **.unique()**"
   ]
  },
  {
   "cell_type": "code",
   "execution_count": 32,
   "id": "0b1d3b33-1a95-49a2-b5df-777a9f67c32f",
   "metadata": {},
   "outputs": [
    {
     "data": {
      "text/plain": [
       "array(['delivery', 'pickup', 'restaurant_reservation'], dtype=object)"
      ]
     },
     "execution_count": 32,
     "metadata": {},
     "output_type": "execute_result"
    }
   ],
   "source": [
    "## saving the unique values from the exploded column\n",
    "cols_to_make = exploded['transactions_split'].dropna().unique()\n",
    "cols_to_make"
   ]
  },
  {
   "cell_type": "markdown",
   "id": "cc07223e-2d7f-4c2f-886b-3e7b046bfad9",
   "metadata": {},
   "source": [
    "Notice that the output is what we were expecting. We now have a single list that includes ALL unique values found anywhere in the lists within the original transaction column.  In this case, we already knew it would be '**delivery**,' '**pickup**,' and **restuarant_reservation**,' but this will work no matter how long the list gets!"
   ]
  },
  {
   "cell_type": "markdown",
   "id": "3edbee41-6d74-45a3-a6af-396895a35514",
   "metadata": {},
   "source": [
    "Using a **For Loop** and **.str.contains** to create the new columns\n",
    "Now we want to create a new column for each of our unique values that are stored in cols_to_make.  And while we are at it, we want to indicate true and false depending on if the value was in the original list.\n"
   ]
  },
  {
   "cell_type": "code",
   "execution_count": 33,
   "id": "b99cfa36-4134-4e40-ba17-077274573326",
   "metadata": {},
   "outputs": [
    {
     "data": {
      "text/html": [
       "<div>\n",
       "<style scoped>\n",
       "    .dataframe tbody tr th:only-of-type {\n",
       "        vertical-align: middle;\n",
       "    }\n",
       "\n",
       "    .dataframe tbody tr th {\n",
       "        vertical-align: top;\n",
       "    }\n",
       "\n",
       "    .dataframe thead th {\n",
       "        text-align: right;\n",
       "    }\n",
       "</style>\n",
       "<table border=\"1\" class=\"dataframe\">\n",
       "  <thead>\n",
       "    <tr style=\"text-align: right;\">\n",
       "      <th></th>\n",
       "      <th>id</th>\n",
       "      <th>alias</th>\n",
       "      <th>name</th>\n",
       "      <th>image_url</th>\n",
       "      <th>is_closed</th>\n",
       "      <th>url</th>\n",
       "      <th>review_count</th>\n",
       "      <th>categories</th>\n",
       "      <th>rating</th>\n",
       "      <th>transactions</th>\n",
       "      <th>...</th>\n",
       "      <th>location</th>\n",
       "      <th>distance</th>\n",
       "      <th>area_code</th>\n",
       "      <th>phone_number</th>\n",
       "      <th>latitude</th>\n",
       "      <th>longitude</th>\n",
       "      <th>transactions_split</th>\n",
       "      <th>delivery</th>\n",
       "      <th>pickup</th>\n",
       "      <th>restaurant_reservation</th>\n",
       "    </tr>\n",
       "  </thead>\n",
       "  <tbody>\n",
       "    <tr>\n",
       "      <th>0</th>\n",
       "      <td>D9A33FM394q99o4QtK5YwA</td>\n",
       "      <td>faidleys-seafood-baltimore-3</td>\n",
       "      <td>Faidleys Seafood</td>\n",
       "      <td>https://s3-media3.fl.yelpcdn.com/bphoto/OTjVDC...</td>\n",
       "      <td>False</td>\n",
       "      <td>https://www.yelp.com/biz/faidleys-seafood-balt...</td>\n",
       "      <td>1181</td>\n",
       "      <td>[{'alias': 'seafood', 'title': 'Seafood'}, {'a...</td>\n",
       "      <td>4.0</td>\n",
       "      <td>['delivery']</td>\n",
       "      <td>...</td>\n",
       "      <td>{'address1': '203 N Paca St', 'address2': '', ...</td>\n",
       "      <td>1349.560720</td>\n",
       "      <td>410</td>\n",
       "      <td>727-4898</td>\n",
       "      <td>39.291696</td>\n",
       "      <td>-76.622240</td>\n",
       "      <td>[delivery]</td>\n",
       "      <td>True</td>\n",
       "      <td>False</td>\n",
       "      <td>False</td>\n",
       "    </tr>\n",
       "    <tr>\n",
       "      <th>1</th>\n",
       "      <td>ieS_5zqxDHcWMCm8BKUYbg</td>\n",
       "      <td>thames-street-oyster-house-baltimore</td>\n",
       "      <td>Thames Street Oyster House</td>\n",
       "      <td>https://s3-media1.fl.yelpcdn.com/bphoto/9hGjo5...</td>\n",
       "      <td>False</td>\n",
       "      <td>https://www.yelp.com/biz/thames-street-oyster-...</td>\n",
       "      <td>2726</td>\n",
       "      <td>[{'alias': 'seafood', 'title': 'Seafood'}, {'a...</td>\n",
       "      <td>4.5</td>\n",
       "      <td>['delivery']</td>\n",
       "      <td>...</td>\n",
       "      <td>{'address1': '1728 Thames St', 'address2': '',...</td>\n",
       "      <td>2090.712792</td>\n",
       "      <td>443</td>\n",
       "      <td>449-7726</td>\n",
       "      <td>39.282140</td>\n",
       "      <td>-76.591620</td>\n",
       "      <td>[delivery]</td>\n",
       "      <td>True</td>\n",
       "      <td>False</td>\n",
       "      <td>False</td>\n",
       "    </tr>\n",
       "    <tr>\n",
       "      <th>2</th>\n",
       "      <td>u65W69AhbjUlvJJBkEhGNQ</td>\n",
       "      <td>miss-shirleys-cafe-baltimore-9</td>\n",
       "      <td>Miss Shirley's Cafe</td>\n",
       "      <td>https://s3-media4.fl.yelpcdn.com/bphoto/9FsOyV...</td>\n",
       "      <td>False</td>\n",
       "      <td>https://www.yelp.com/biz/miss-shirleys-cafe-ba...</td>\n",
       "      <td>2918</td>\n",
       "      <td>[{'alias': 'breakfast_brunch', 'title': 'Break...</td>\n",
       "      <td>4.0</td>\n",
       "      <td>['pickup', 'delivery']</td>\n",
       "      <td>...</td>\n",
       "      <td>{'address1': '750 E Pratt St', 'address2': '',...</td>\n",
       "      <td>1028.736468</td>\n",
       "      <td>410</td>\n",
       "      <td>528-5373</td>\n",
       "      <td>39.287099</td>\n",
       "      <td>-76.605366</td>\n",
       "      <td>[pickup, delivery]</td>\n",
       "      <td>True</td>\n",
       "      <td>True</td>\n",
       "      <td>False</td>\n",
       "    </tr>\n",
       "    <tr>\n",
       "      <th>3</th>\n",
       "      <td>6am8TZAFnvND52MOz-Yctg</td>\n",
       "      <td>mamas-on-the-half-shell-baltimore</td>\n",
       "      <td>Mama's On The Half Shell</td>\n",
       "      <td>https://s3-media2.fl.yelpcdn.com/bphoto/HWY8OF...</td>\n",
       "      <td>False</td>\n",
       "      <td>https://www.yelp.com/biz/mamas-on-the-half-she...</td>\n",
       "      <td>1277</td>\n",
       "      <td>[{'alias': 'bars', 'title': 'Bars'}, {'alias':...</td>\n",
       "      <td>4.0</td>\n",
       "      <td>['pickup', 'delivery']</td>\n",
       "      <td>...</td>\n",
       "      <td>{'address1': '2901 Odonnell St', 'address2': '...</td>\n",
       "      <td>3328.825798</td>\n",
       "      <td>410</td>\n",
       "      <td>276-3160</td>\n",
       "      <td>39.279860</td>\n",
       "      <td>-76.575240</td>\n",
       "      <td>[pickup, delivery]</td>\n",
       "      <td>True</td>\n",
       "      <td>True</td>\n",
       "      <td>False</td>\n",
       "    </tr>\n",
       "    <tr>\n",
       "      <th>4</th>\n",
       "      <td>p_XPpHiZbdOccx2jFUgZJA</td>\n",
       "      <td>the-local-oyster-baltimore</td>\n",
       "      <td>The Local Oyster</td>\n",
       "      <td>https://s3-media3.fl.yelpcdn.com/bphoto/u_33ay...</td>\n",
       "      <td>False</td>\n",
       "      <td>https://www.yelp.com/biz/the-local-oyster-balt...</td>\n",
       "      <td>217</td>\n",
       "      <td>[{'alias': 'seafood', 'title': 'Seafood'}, {'a...</td>\n",
       "      <td>4.0</td>\n",
       "      <td>['delivery']</td>\n",
       "      <td>...</td>\n",
       "      <td>{'address1': '520 Park Ave', 'address2': None,...</td>\n",
       "      <td>966.729941</td>\n",
       "      <td>844</td>\n",
       "      <td>748-2537</td>\n",
       "      <td>39.295829</td>\n",
       "      <td>-76.618891</td>\n",
       "      <td>[delivery]</td>\n",
       "      <td>True</td>\n",
       "      <td>False</td>\n",
       "      <td>False</td>\n",
       "    </tr>\n",
       "  </tbody>\n",
       "</table>\n",
       "<p>5 rows × 21 columns</p>\n",
       "</div>"
      ],
      "text/plain": [
       "                       id                                 alias  \\\n",
       "0  D9A33FM394q99o4QtK5YwA          faidleys-seafood-baltimore-3   \n",
       "1  ieS_5zqxDHcWMCm8BKUYbg  thames-street-oyster-house-baltimore   \n",
       "2  u65W69AhbjUlvJJBkEhGNQ        miss-shirleys-cafe-baltimore-9   \n",
       "3  6am8TZAFnvND52MOz-Yctg     mamas-on-the-half-shell-baltimore   \n",
       "4  p_XPpHiZbdOccx2jFUgZJA            the-local-oyster-baltimore   \n",
       "\n",
       "                         name  \\\n",
       "0            Faidleys Seafood   \n",
       "1  Thames Street Oyster House   \n",
       "2         Miss Shirley's Cafe   \n",
       "3    Mama's On The Half Shell   \n",
       "4            The Local Oyster   \n",
       "\n",
       "                                           image_url  is_closed  \\\n",
       "0  https://s3-media3.fl.yelpcdn.com/bphoto/OTjVDC...      False   \n",
       "1  https://s3-media1.fl.yelpcdn.com/bphoto/9hGjo5...      False   \n",
       "2  https://s3-media4.fl.yelpcdn.com/bphoto/9FsOyV...      False   \n",
       "3  https://s3-media2.fl.yelpcdn.com/bphoto/HWY8OF...      False   \n",
       "4  https://s3-media3.fl.yelpcdn.com/bphoto/u_33ay...      False   \n",
       "\n",
       "                                                 url  review_count  \\\n",
       "0  https://www.yelp.com/biz/faidleys-seafood-balt...          1181   \n",
       "1  https://www.yelp.com/biz/thames-street-oyster-...          2726   \n",
       "2  https://www.yelp.com/biz/miss-shirleys-cafe-ba...          2918   \n",
       "3  https://www.yelp.com/biz/mamas-on-the-half-she...          1277   \n",
       "4  https://www.yelp.com/biz/the-local-oyster-balt...           217   \n",
       "\n",
       "                                          categories  rating  \\\n",
       "0  [{'alias': 'seafood', 'title': 'Seafood'}, {'a...     4.0   \n",
       "1  [{'alias': 'seafood', 'title': 'Seafood'}, {'a...     4.5   \n",
       "2  [{'alias': 'breakfast_brunch', 'title': 'Break...     4.0   \n",
       "3  [{'alias': 'bars', 'title': 'Bars'}, {'alias':...     4.0   \n",
       "4  [{'alias': 'seafood', 'title': 'Seafood'}, {'a...     4.0   \n",
       "\n",
       "             transactions  ...  \\\n",
       "0            ['delivery']  ...   \n",
       "1            ['delivery']  ...   \n",
       "2  ['pickup', 'delivery']  ...   \n",
       "3  ['pickup', 'delivery']  ...   \n",
       "4            ['delivery']  ...   \n",
       "\n",
       "                                            location     distance  area_code  \\\n",
       "0  {'address1': '203 N Paca St', 'address2': '', ...  1349.560720        410   \n",
       "1  {'address1': '1728 Thames St', 'address2': '',...  2090.712792        443   \n",
       "2  {'address1': '750 E Pratt St', 'address2': '',...  1028.736468        410   \n",
       "3  {'address1': '2901 Odonnell St', 'address2': '...  3328.825798        410   \n",
       "4  {'address1': '520 Park Ave', 'address2': None,...   966.729941        844   \n",
       "\n",
       "  phone_number   latitude  longitude  transactions_split delivery  pickup  \\\n",
       "0     727-4898  39.291696 -76.622240          [delivery]     True   False   \n",
       "1     449-7726  39.282140 -76.591620          [delivery]     True   False   \n",
       "2     528-5373  39.287099 -76.605366  [pickup, delivery]     True    True   \n",
       "3     276-3160  39.279860 -76.575240  [pickup, delivery]     True    True   \n",
       "4     748-2537  39.295829 -76.618891          [delivery]     True   False   \n",
       "\n",
       "   restaurant_reservation  \n",
       "0                   False  \n",
       "1                   False  \n",
       "2                   False  \n",
       "3                   False  \n",
       "4                   False  \n",
       "\n",
       "[5 rows x 21 columns]"
      ]
     },
     "execution_count": 33,
     "metadata": {},
     "output_type": "execute_result"
    }
   ],
   "source": [
    "for col in cols_to_make:\n",
    "    df[col] = df['transactions'].str.contains(col)\n",
    "df.head()"
   ]
  },
  {
   "cell_type": "markdown",
   "id": "86ff34d3-cf16-4a05-a7ac-ae01f7871f5f",
   "metadata": {},
   "source": [
    "**And now we have our new transaction columns!**"
   ]
  },
  {
   "cell_type": "markdown",
   "id": "dc7310a7-0306-45a1-ac5a-d720386122fc",
   "metadata": {},
   "source": [
    "Let's drop the original transactions column and our transactions_split column now that we have confirmed our new columns were created correctly and save our dataframe as a .csv."
   ]
  },
  {
   "cell_type": "code",
   "execution_count": 34,
   "id": "934efd16-8f24-4be4-b344-13601ed9601a",
   "metadata": {},
   "outputs": [],
   "source": [
    "# drop transactions clumns\n",
    "df = df.drop(columns=['transactions','transactions_split'])\n",
    "## save data for next lesson\n",
    "df.to_csv('advanced_tf_data_pt1.csv', index=False)"
   ]
  }
 ],
 "metadata": {
  "kernelspec": {
   "display_name": "Python 3 (ipykernel)",
   "language": "python",
   "name": "python3"
  },
  "language_info": {
   "codemirror_mode": {
    "name": "ipython",
    "version": 3
   },
   "file_extension": ".py",
   "mimetype": "text/x-python",
   "name": "python",
   "nbconvert_exporter": "python",
   "pygments_lexer": "ipython3",
   "version": "3.10.10"
  },
  "widgets": {
   "application/vnd.jupyter.widget-state+json": {
    "state": {},
    "version_major": 2,
    "version_minor": 0
   }
  }
 },
 "nbformat": 4,
 "nbformat_minor": 5
}
